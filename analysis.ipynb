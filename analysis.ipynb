{
 "cells": [
  {
   "cell_type": "code",
   "execution_count": 1,
   "metadata": {},
   "outputs": [
    {
     "data": {
      "text/html": [
       "\n",
       "<style>\n",
       "    .output-plaintext, .output-stream, .output {\n",
       "        font-family: Courier; # Any monospaced font should work\n",
       "        line-height: 1.3 !important;\n",
       "        font-size: 14px !important;\n",
       "    }\n",
       "</style>\n"
      ],
      "text/plain": [
       "<IPython.core.display.HTML object>"
      ]
     },
     "execution_count": 1,
     "metadata": {},
     "output_type": "execute_result"
    }
   ],
   "source": [
    "from IPython.core.display import HTML\n",
    "HTML(r\"\"\"\n",
    "<style>\n",
    "    .output-plaintext, .output-stream, .output {\n",
    "        font-family: Courier; # Any monospaced font should work\n",
    "        line-height: 1.3 !important;\n",
    "        font-size: 14px !important;\n",
    "    }\n",
    "</style>\n",
    "\"\"\")"
   ]
  },
  {
   "cell_type": "markdown",
   "metadata": {},
   "source": [
    "# Basic math analysis for Hoot Owl Hoot\n",
    "## Number of turns in a lost game\n",
    "A game is lost when the sun token has moved 13 spaces.  This can only happen after at least 13 cards have been played.\n"
   ]
  },
  {
   "cell_type": "markdown",
   "metadata": {},
   "source": [
    "### What is the probability that a player starts the game with at least one sun card?\n",
    "Since the turn order is random, this probability is the same for all players.\n",
    "\n",
    "$$\n",
    "\\begin{align*}\n",
    "\n",
    "p\\left(start\\ with\\ at\\ least\\ one\\ sun\\right) &= 1-p\\left(start\\ with\\ zero\\ suns\\right) \\\\\n",
    "\n",
    "&= 1 - \\left( \\frac{36}{50}*\\frac{35}{49}*\\frac{34}{48} \\right) \\\\\n",
    "&= 0.6357\n",
    "\\end{align*}\n",
    "$$"
   ]
  },
  {
   "cell_type": "code",
   "execution_count": 2,
   "metadata": {},
   "outputs": [
    {
     "name": "stdout",
     "output_type": "stream",
     "text": [
      "The probability of the first hand being dealt at leat one sun is 0.6357\n"
     ]
    }
   ],
   "source": [
    "# Probability of the first hand having a sun on the first turn\n",
    "from math import factorial as fac\n",
    "p = 1 - (fac(36)/fac(3)/fac(36-3)) / (fac(50)/fac(3)/fac(50-3))\n",
    "print(f'The probability of the first hand being dealt at leat one sun is {p:.4f}')"
   ]
  },
  {
   "cell_type": "code",
   "execution_count": 3,
   "metadata": {},
   "outputs": [
    {
     "name": "stdout",
     "output_type": "stream",
     "text": [
      "In 63.68% of the 100,000 games, the first hand started with at least one sun.\n"
     ]
    }
   ],
   "source": [
    "# Deal 100,000 games and count the number of times the first hand contains at least one sun\n",
    "import game\n",
    "\n",
    "n_games = 100_000\n",
    "count = 0\n",
    "for _ in range(n_games):\n",
    "    g = game.Game()\n",
    "    if game.SUN in g.hands[0]:\n",
    "        count += 1\n",
    "\n",
    "print(f'In {count / n_games:.2%} of the {n_games:,} games, the first hand started with at least one sun.')"
   ]
  },
  {
   "cell_type": "markdown",
   "metadata": {},
   "source": [
    "## What is the expected position within the deck of the 13th sun card?\n",
    "```\n",
    "<---------------------------------k---------------->\n",
    "       ^                          ^           ^  \n",
    "       12 suns                    13th sun    1 sun\n",
    "```\n",
    "\n",
    "The position of the 13th sun has 12 suns before it and one sun after it.  The number of possible ways to achieve a configuration like this is the number of ways to configure 12 suns within $(k-1)$ positions multiplied by the number of positions that the last sun can be in, which is $(50-k)$.\n",
    "\n",
    "$$ N_{specific\\ permutations} = \\binom{k-1}{12} \\left( 50-k \\right) $$\n",
    "\n",
    "And the total number of ways to distribute 14 sun cards within 50 cards is calculated using a binomial coefficient.\n",
    "\n",
    "$$ N_{total\\ permutations} = \\binom{50}{14} $$\n",
    "\n",
    "So the probability that the 13th sun is in position $k$ is the ratio of the two expressions above.\n",
    "\n",
    "$$ p(k) = \\frac{\\binom{k-1}{12} \\left( 50-k \\right)}{\\binom{50}{14}} $$\n",
    "\n",
    "And the expected position of the 13th sun is:\n",
    "\n",
    "$$\n",
    "\\begin{align*}\n",
    "\n",
    "E[k_{13}] &= \\sum_{k=13}^{49}p(k)k \\\\\n",
    "\n",
    "&= \\sum_{k=13}^{49} \\left[ \\frac{\\binom{k-1}{12} \\left( 50-k \\right)}{\\binom{50}{14}} k \\right] \\\\\n",
    "&= \\sum_{k=13}^{49} \\left[ \\frac{k(k-1)!(50-k)} {(k-13)!} \\frac{14!*36!}{12!*50!} \\right] \\\\\n",
    "&= 44.2\n",
    "\n",
    "\\end{align*}\n",
    "$$"
   ]
  },
  {
   "cell_type": "code",
   "execution_count": 4,
   "metadata": {},
   "outputs": [
    {
     "name": "stdout",
     "output_type": "stream",
     "text": [
      "The average position of the 13th sun is 44.20356\n"
     ]
    }
   ],
   "source": [
    "# Set up 100,000 decks and find the average position of the 13th sun\n",
    "n_games = 100_000\n",
    "sum = 0\n",
    "\n",
    "for _ in range(n_games):\n",
    "    d = game.Deck()\n",
    "    d.shuffle()\n",
    "    sum += d.position_of_nth_card(game.SUN, 13)\n",
    "\n",
    "avg = sum / n_games\n",
    "print(f'The average position of the 13th sun is {avg + 1}')"
   ]
  },
  {
   "cell_type": "code",
   "execution_count": 6,
   "metadata": {},
   "outputs": [
    {
     "name": "stdout",
     "output_type": "stream",
     "text": [
      "The average cards played in a 1 player game using random moves is 42.195.\n",
      "The average number of cards dealt in a 1 player game using random moves is 44.195\n",
      "The average cards played in a 2 player game using random moves is 40.214.\n",
      "The average number of cards dealt in a 2 player game using random moves is 45.214\n",
      "The average cards played in a 3 player game using random moves is 38.153.\n",
      "The average number of cards dealt in a 3 player game using random moves is 46.153\n",
      "The average cards played in a 4 player game using random moves is 35.943.\n",
      "The average number of cards dealt in a 4 player game using random moves is 46.943\n"
     ]
    }
   ],
   "source": [
    "# Find the average length of a one player game\n",
    "import agent\n",
    "\n",
    "n_games = 100_000\n",
    "\n",
    "for N_players in range(1,5):\n",
    "    sum = 0\n",
    "\n",
    "    for _ in range(n_games):\n",
    "        a = agent.Agent(n_hands=N_players)\n",
    "        a.play_game()\n",
    "        sum += len(a.game.deck.cards)\n",
    "\n",
    "    avg_cards_remaining = sum / n_games\n",
    "    avg_cards_played = 50 - avg_cards_remaining - 3 * N_players + 1\n",
    "    avg_cards_dealt = 50 - avg_cards_remaining\n",
    "\n",
    "    print(f'The average cards played in a {N_players} player game using random moves is {avg_cards_played:.3f}.')\n",
    "    print(f'The average number of cards dealt in a {N_players} player game using random moves is {avg_cards_dealt:.3f}')"
   ]
  },
  {
   "cell_type": "markdown",
   "metadata": {},
   "source": [
    "This result confirms that a single player game is expected to have 44.2 cards dealt and have 42.2 moves."
   ]
  }
 ],
 "metadata": {
  "interpreter": {
   "hash": "df4e6b70a5fe3c12393ad7d487e5616e7544ce8f37b0ece5df19391db8b0b32b"
  },
  "kernelspec": {
   "display_name": "Python 3.8.10 ('env': venv)",
   "language": "python",
   "name": "python3"
  },
  "language_info": {
   "codemirror_mode": {
    "name": "ipython",
    "version": 3
   },
   "file_extension": ".py",
   "mimetype": "text/x-python",
   "name": "python",
   "nbconvert_exporter": "python",
   "pygments_lexer": "ipython3",
   "version": "3.9.10"
  },
  "orig_nbformat": 4
 },
 "nbformat": 4,
 "nbformat_minor": 2
}
