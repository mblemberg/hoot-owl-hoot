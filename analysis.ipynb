{
 "cells": [
  {
   "cell_type": "code",
   "execution_count": 1,
   "metadata": {},
   "outputs": [
    {
     "data": {
      "text/html": [
       "\n",
       "<style>\n",
       "    .output-plaintext, .output-stream, .output {\n",
       "        font-family: Courier; # Any monospaced font should work\n",
       "        line-height: 1.3 !important;\n",
       "        font-size: 14px !important;\n",
       "    }\n",
       "</style>\n"
      ],
      "text/plain": [
       "<IPython.core.display.HTML object>"
      ]
     },
     "execution_count": 1,
     "metadata": {},
     "output_type": "execute_result"
    }
   ],
   "source": [
    "from IPython.core.display import HTML\n",
    "HTML(r\"\"\"\n",
    "<style>\n",
    "    .output-plaintext, .output-stream, .output {\n",
    "        font-family: Courier; # Any monospaced font should work\n",
    "        line-height: 1.3 !important;\n",
    "        font-size: 14px !important;\n",
    "    }\n",
    "</style>\n",
    "\"\"\")"
   ]
  },
  {
   "cell_type": "code",
   "execution_count": 4,
   "metadata": {},
   "outputs": [],
   "source": [
    "import matplotlib.pyplot as plt\n",
    "import game\n",
    "from math import factorial as fac\n",
    "import seaborn as sns\n",
    "import agent\n",
    "\n",
    "%matplotlib inline\n",
    "plt.rcParams['figure.dpi'] = 100\n",
    "plt.rcParams['savefig.dpi'] = 100"
   ]
  },
  {
   "cell_type": "markdown",
   "metadata": {},
   "source": [
    "# Hoot Owl Hoot\n",
    "![Image of Hoot Owl Hoot](https://www.toycompany.com/components/com_virtuemart/shop_image/product/full/GM106_HootOwlHoot_SPREAD_R.jpg)\n",
    "\n",
    "[Hoot Owl Hoot Rules](https://www.ultraboardgames.com/hoot-owl-hoot/game-rules.php)"
   ]
  },
  {
   "cell_type": "markdown",
   "metadata": {},
   "source": [
    "# Basic math analysis for Hoot Owl Hoot\n",
    "## Number of turns in a lost game\n",
    "A game is lost when the sun token has moved 13 spaces.  This can only happen after at least 13 cards have been played.\n"
   ]
  },
  {
   "cell_type": "markdown",
   "metadata": {},
   "source": [
    "### What is the probability that a player starts the game with at least one sun card?\n",
    "Since the turn order is random, this probability is the same for all players.\n",
    "\n",
    "$$\n",
    "\\begin{align*}\n",
    "\n",
    "p\\left(start\\ with\\ at\\ least\\ one\\ sun\\right) &= 1-p\\left(start\\ with\\ zero\\ suns\\right) \\\\\n",
    "\n",
    "&= 1 - \\left( \\frac{36}{50}*\\frac{35}{49}*\\frac{34}{48} \\right) \\\\\n",
    "&= 0.6357\n",
    "\\end{align*}\n",
    "$$"
   ]
  },
  {
   "cell_type": "code",
   "execution_count": 3,
   "metadata": {},
   "outputs": [
    {
     "name": "stdout",
     "output_type": "stream",
     "text": [
      "The probability of the first hand being dealt at leat one sun is 0.6357\n"
     ]
    }
   ],
   "source": [
    "# Probability of the first hand having a sun on the first turn\n",
    "p = 1 - (fac(36)/fac(3)/fac(36-3)) / (fac(50)/fac(3)/fac(50-3))\n",
    "print(f'The probability of the first hand being dealt at leat one sun is {p:.4f}')"
   ]
  },
  {
   "cell_type": "code",
   "execution_count": 4,
   "metadata": {},
   "outputs": [
    {
     "name": "stdout",
     "output_type": "stream",
     "text": [
      "In 63.48% of the 100,000 games, the first hand started with at least one sun.\n"
     ]
    }
   ],
   "source": [
    "# Deal 100,000 games and count the number of times the first hand contains at least one sun\n",
    "n_games = 100_000\n",
    "count = 0\n",
    "for _ in range(n_games):\n",
    "    g = game.Game()\n",
    "    if game.SUN in g.hands[0]:\n",
    "        count += 1\n",
    "\n",
    "print(f'In {count / n_games:.2%} of the {n_games:,} games, the first hand started with at least one sun.')"
   ]
  },
  {
   "cell_type": "markdown",
   "metadata": {},
   "source": [
    "## What is the expected position within the deck of the 13th sun card?\n",
    "```\n",
    "<---------------------------------k---------------->\n",
    "       ^                          ^           ^  \n",
    "       12 suns                    13th sun    1 sun\n",
    "```\n",
    "\n",
    "The position of the 13th sun has 12 suns before it and one sun after it.  The number of possible ways to achieve a configuration like this is the number of ways to configure 12 suns within $(k-1)$ positions multiplied by the number of positions that the last sun can be in, which is $(50-k)$.\n",
    "\n",
    "$$ N_{specific\\ permutations} = \\binom{k-1}{12} \\left( 50-k \\right) $$\n",
    "\n",
    "And the total number of ways to distribute 14 sun cards within 50 cards is calculated using a binomial coefficient.\n",
    "\n",
    "$$ N_{total\\ permutations} = \\binom{50}{14} $$\n",
    "\n",
    "So the probability that the 13th sun is in position $k$ is the ratio of the two expressions above.\n",
    "\n",
    "$$ p(k) = \\frac{\\binom{k-1}{12} \\left( 50-k \\right)}{\\binom{50}{14}} $$\n"
   ]
  },
  {
   "cell_type": "code",
   "execution_count": 5,
   "metadata": {},
   "outputs": [],
   "source": [
    "# Calculate the probability density function\n",
    "def binom(n, k):\n",
    "    return fac(n) / fac(k) / fac(n-k)\n",
    "\n",
    "def p(k):\n",
    "    return binom(k-1, 12) * (50-k) / binom(50, 14)\n",
    "\n",
    "x = []\n",
    "y = []\n",
    "for k in range(13,50):\n",
    "    x.append(k)\n",
    "    y.append(p(k))"
   ]
  },
  {
   "cell_type": "code",
   "execution_count": 6,
   "metadata": {},
   "outputs": [
    {
     "data": {
      "image/png": "[encoded data removed]",
      "text/plain": [
       "<Figure size 600x400 with 1 Axes>"
      ]
     },
     "metadata": {
      "needs_background": "light"
     },
     "output_type": "display_data"
    }
   ],
   "source": [
    "# Plot the probability density function\n",
    "pdf = sns.lineplot(x=x, y=y)\n",
    "_ = pdf.set(\n",
    "    title='Probability of the 13th sun card being at position k',\n",
    "    xlabel='k',\n",
    "    ylabel='Probability'\n",
    ")"
   ]
  },
  {
   "cell_type": "markdown",
   "metadata": {},
   "source": [
    "\n",
    "And the expected position of the 13th sun is:\n",
    "\n",
    "$$\n",
    "\\begin{align*}\n",
    "\n",
    "E[k_{13}] &= \\sum_{k=13}^{49}p(k)k \\\\\n",
    "\n",
    "&= \\sum_{k=13}^{49} \\left[ \\frac{\\binom{k-1}{12} \\left( 50-k \\right)}{\\binom{50}{14}} k \\right] \\\\\n",
    "&= \\sum_{k=13}^{49} \\left[ \\frac{k(k-1)!(50-k)} {(k-13)!} \\frac{14!*36!}{12!*50!} \\right] \\\\\n",
    "&= 44.2\n",
    "\n",
    "\\end{align*}\n",
    "$$"
   ]
  },
  {
   "cell_type": "code",
   "execution_count": 7,
   "metadata": {},
   "outputs": [
    {
     "name": "stdout",
     "output_type": "stream",
     "text": [
      "The average position of the 13th sun is 44.177\n"
     ]
    }
   ],
   "source": [
    "# Set up 100,000 decks and find the average position of the 13th sun\n",
    "n_games = 100_000\n",
    "sum = 0\n",
    "\n",
    "for _ in range(n_games):\n",
    "    d = game.Deck()\n",
    "    d.shuffle()\n",
    "    sum += d.position_of_nth_card(game.SUN, 13)\n",
    "\n",
    "avg = sum / n_games\n",
    "print(f'The average position of the 13th sun is {avg + 1:.3f}')"
   ]
  },
  {
   "cell_type": "markdown",
   "metadata": {},
   "source": [
    "This result confirms that a single player game is expected to have 44.2 cards dealt and have 42.2 moves."
   ]
  },
  {
   "cell_type": "markdown",
   "metadata": {},
   "source": [
    "## Average number of cards played\n",
    "Since each player begins the game with an extra two cards in addition to the initial \"draw\", the number of cards that need to be drawn before the 13th sun is reached is two less for each player in the game.\n",
    "\n",
    "$$\n",
    "E[N_{cards\\_played}] = \\sum_{k=13}^{49} \\left[ \\frac{k(k-1)!(50-k)} {(k-13)!} \\frac{14!*36!}{12!*50!} \\right] - 2 N_{players}\n",
    "$$\n",
    "\n",
    "## Average number of cards dealt\n",
    "The number of cards dealt is directly related to the number of cards played and the number of players.  There are two additional cards dealt per player due to the starting hand.  Since the game ends with one player playing one of their three cards, they end with only two cards and a replacement card is not drawn.  Therefore, one less card is dealt.\n",
    "\n",
    "$$\n",
    "N_{cards\\_dealt} = N_{cards\\_played} + 3 N_{players} - 1\n",
    "$$\n",
    "\n",
    "| $N_{players}$ | $E[N_{cards\\_played}]$ | $E[N_{cards\\_dealt}]$ |\n",
    "| --- | --- | --- |\n",
    "| 1 | 42.2 | 44.2 |\n",
    "| 2 | 40.2 | 45.2 |\n",
    "| 3 | 38.2 | 46.2 |\n",
    "| 4 | 36.2 | 47.2 |\n"
   ]
  },
  {
   "cell_type": "code",
   "execution_count": 8,
   "metadata": {},
   "outputs": [
    {
     "name": "stdout",
     "output_type": "stream",
     "text": [
      "The average cards played in a 1 player game using random moves is 42.185.\n",
      "The average number of cards dealt in a 1 player game using random moves is 44.185\n",
      "The average cards played in a 2 player game using random moves is 40.197.\n",
      "The average number of cards dealt in a 2 player game using random moves is 45.197\n",
      "The average cards played in a 3 player game using random moves is 38.105.\n",
      "The average number of cards dealt in a 3 player game using random moves is 46.105\n",
      "The average cards played in a 4 player game using random moves is 35.902.\n",
      "The average number of cards dealt in a 4 player game using random moves is 46.902\n"
     ]
    }
   ],
   "source": [
    "# Find the average length of a lost game\n",
    "n_games = 10_000\n",
    "played_cards_counts = {}\n",
    "\n",
    "for N_players in range(1, 5):\n",
    "    sum = 0\n",
    "    played_cards_counts[N_players] = []\n",
    "\n",
    "    for _ in range(n_games):\n",
    "        a = agent.Agent(n_hands=N_players)\n",
    "        a.play_game()\n",
    "\n",
    "        if a.game.state() == game.Game.LOSS:\n",
    "            sum += len(a.game.deck.cards)\n",
    "\n",
    "            n_cards_in_hands = 0\n",
    "            for _p in range(N_players):\n",
    "                n_cards_in_hands += len(a.game.hands[_p])\n",
    "\n",
    "            played_cards_counts[N_players].append(\n",
    "                50 - len(a.game.deck.cards) - n_cards_in_hands\n",
    "            )\n",
    "\n",
    "    avg_cards_remaining = sum / n_games\n",
    "    avg_cards_played = 50 - avg_cards_remaining - 3 * N_players + 1\n",
    "    avg_cards_dealt = 50 - avg_cards_remaining\n",
    "\n",
    "    print(\n",
    "        f'The average cards played in a {N_players} player game using random moves is {avg_cards_played:.3f}.')\n",
    "    print(\n",
    "        f'The average number of cards dealt in a {N_players} player game using random moves is {avg_cards_dealt:.3f}')\n"
   ]
  },
  {
   "cell_type": "code",
   "execution_count": 2,
   "metadata": {},
   "outputs": [
    {
     "ename": "NameError",
     "evalue": "name 'played_cards_counts' is not defined",
     "output_type": "error",
     "traceback": [
      "\u001b[0;31m---------------------------------------------------------------------------\u001b[0m",
      "\u001b[0;31mNameError\u001b[0m                                 Traceback (most recent call last)",
      "\u001b[1;32m/home/mike/hoot-owl-hoot/analysis.ipynb Cell 16'\u001b[0m in \u001b[0;36m<module>\u001b[0;34m\u001b[0m\n\u001b[1;32m      <a href='vscode-notebook-cell://ssh-remote%2Bnimzo/home/mike/hoot-owl-hoot/analysis.ipynb#ch0000015vscode-remote?line=0'>1</a>\u001b[0m \u001b[39mfor\u001b[39;00m n \u001b[39min\u001b[39;00m \u001b[39mrange\u001b[39m(\u001b[39m1\u001b[39m, \u001b[39m5\u001b[39m):\n\u001b[0;32m----> <a href='vscode-notebook-cell://ssh-remote%2Bnimzo/home/mike/hoot-owl-hoot/analysis.ipynb#ch0000015vscode-remote?line=1'>2</a>\u001b[0m     \u001b[39mprint\u001b[39m(\u001b[39mf\u001b[39m\u001b[39m'\u001b[39m\u001b[39mNumber of lost games for \u001b[39m\u001b[39m{\u001b[39;00mn\u001b[39m}\u001b[39;00m\u001b[39m player sims = \u001b[39m\u001b[39m{\u001b[39;00m\u001b[39mlen\u001b[39m(played_cards_counts[n])\u001b[39m}\u001b[39;00m\u001b[39m'\u001b[39m)\n",
      "\u001b[0;31mNameError\u001b[0m: name 'played_cards_counts' is not defined"
     ]
    }
   ],
   "source": [
    "for n in range(1, 5):\n",
    "    print(f'Number of lost games for {n} player sims = {len(played_cards_counts[n])}')"
   ]
  },
  {
   "cell_type": "code",
   "execution_count": 10,
   "metadata": {},
   "outputs": [
    {
     "data": {
      "image/png": "[encoded data removed]",
      "text/plain": [
       "<Figure size 600x400 with 1 Axes>"
      ]
     },
     "metadata": {
      "needs_background": "light"
     },
     "output_type": "display_data"
    }
   ],
   "source": [
    "plt.hist(x=(\n",
    "    played_cards_counts[1],\n",
    "    played_cards_counts[2],\n",
    "    played_cards_counts[3],\n",
    "    played_cards_counts[4]\n",
    "),\n",
    "    bins=range(13, 51),\n",
    "    histtype='step',\n",
    "    stacked=False,\n",
    "    fill=False,\n",
    "    label=['1', '2', '3', '4']\n",
    ")\n",
    "plt.xlabel('Cards Played')\n",
    "plt.ylabel('Frequency')\n",
    "legend = plt.legend(loc='upper left')"
   ]
  },
  {
   "cell_type": "markdown",
   "metadata": {},
   "source": [
    "The simulations above do not seem to support the calculated expectations for multiplayer games.  The games seem to be ending sooner than expected.  Since 13 sun cards always need to be played/dealt, I'm not sure why this is the case."
   ]
  },
  {
   "cell_type": "code",
   "execution_count": 13,
   "metadata": {},
   "outputs": [
    {
     "name": "stdout",
     "output_type": "stream",
     "text": [
      "ygobprbprygborpygobprgyobprygborpygborpN\n",
      "******                                  | Sgb bSb obg pry | Sun: 0 | Cards played: 0\n",
      "******                                  | gbr bSb obg pry | Sun: 1 | Cards played: 1\n",
      "******                                  | gbr bbS obg pry | Sun: 2 | Cards played: 2\n",
      "***** *                                 | gbr bbS ogb pry | Sun: 2 | Cards played: 3\n",
      "*****    *                              | gbr bbS ogb pry | Sun: 2 | Cards played: 4\n",
      "****  *  *                              | grS bbS ogb pry | Sun: 2 | Cards played: 5\n",
      "****  *  *                              | grS bbb ogb pry | Sun: 3 | Cards played: 6\n",
      "****  *   *                             | grS bbb oby pry | Sun: 3 | Cards played: 7\n",
      " ***  *  **                             | grS bbb oby prS | Sun: 3 | Cards played: 8\n",
      " ***  *  **                             | grp bbb oby prS | Sun: 4 | Cards played: 9\n",
      " ***     ***                            | grp bbo oby prS | Sun: 4 | Cards played: 10\n",
      " * *     ****                           | grp bbo byr prS | Sun: 4 | Cards played: 11\n",
      " * *     ****                           | grp bbo byr prS | Sun: 5 | Cards played: 12\n",
      " * *     ** * *                         | gro bbo byr prS | Sun: 5 | Cards played: 13\n",
      " * *     *  * *  *                      | gro bbr byr prS | Sun: 5 | Cards played: 14\n",
      " * *     *  *    **                     | gro bbr yrS prS | Sun: 5 | Cards played: 15\n",
      " * *     *  *    **                     | gro bbr yrS pry | Sun: 6 | Cards played: 16\n",
      " * *     *  *     *    *                | grg bbr yrS pry | Sun: 6 | Cards played: 17\n",
      "   * *   *  *     *    *                | grg bbp yrS pry | Sun: 6 | Cards played: 18\n",
      "   * *   *  *     *    *                | grg bbp yrr pry | Sun: 7 | Cards played: 19\n",
      "   * *   *  *       *  *                | grg bbp yrr pyS | Sun: 7 | Cards played: 20\n",
      "   * *   *  *       *     *             | ggS bbp yrr pyS | Sun: 7 | Cards played: 21\n",
      "   * *   *    *     *     *             | ggS bbr yrr pyS | Sun: 7 | Cards played: 22\n",
      "   * *       **     *     *             | ggS bbr yrS pyS | Sun: 7 | Cards played: 23\n",
      "   * *       **     *     *             | ggS bbr yrS pyo | Sun: 8 | Cards played: 24\n",
      "   * *       **     *     *             | ggy bbr yrS pyo | Sun: 9 | Cards played: 25\n",
      "     *  *    **     *     *             | ggy bbg yrS pyo | Sun: 9 | Cards played: 26\n",
      "     *  *    **     *     *             | ggy bbg yro pyo | Sun: 10 | Cards played: 27\n",
      "     *   *   **     *     *             | ggy bbg yro pog | Sun: 10 | Cards played: 28\n",
      "     *   *    **    *     *             | ggS bbg yro pog | Sun: 10 | Cards played: 29\n",
      "     *   *    * *   *     *             | ggS bbp yro pog | Sun: 10 | Cards played: 30\n",
      "     *   *    * *   *         *         | ggS bbp yrS pog | Sun: 10 | Cards played: 31\n",
      "     *   *    *    **         *         | ggS bbp yrS ogp | Sun: 10 | Cards played: 32\n",
      "     *   *    *    **         *         | ggp bbp yrS ogp | Sun: 11 | Cards played: 33\n",
      "     *   *    *     *    *    *         | ggp bbo yrS ogp | Sun: 11 | Cards played: 34\n",
      "     *   *    *     *    *    *         | ggp bbo yrS ogp | Sun: 12 | Cards played: 35\n",
      "     *      * *     *    *    *         | ggp bbo yrS gpy | Sun: 12 | Cards played: 36\n",
      "     *      * *     *    *        *     | gpg bbo yrS gpy | Sun: 12 | Cards played: 37\n",
      "     *        *   * *    *        *     | gpg boS yrS gpy | Sun: 12 | Cards played: 38\n",
      "     *        *   * *    *        *     | gpg boS yr gpy | Sun: 13 | Cards played: 39\n",
      "Game result: Loss\n"
     ]
    },
    {
     "data": {
      "text/plain": [
       "False"
      ]
     },
     "execution_count": 13,
     "metadata": {},
     "output_type": "execute_result"
    }
   ],
   "source": [
    "a = agent.Agent(n_hands=4)\n",
    "a.play_game(show_game=True)"
   ]
  },
  {
   "cell_type": "code",
   "execution_count": 2,
   "metadata": {},
   "outputs": [],
   "source": [
    "# Probability that the 13th sun is played and the game ends when k cards have been removed from the deck\n",
    "def p_end(k, n_players):\n",
    "    return (\n",
    "        fac(k-num_players) * (49-k+num_players) * fac(14) * fac(36)\n",
    "        / fac(k-12-num_players) / fac(50) / fac(12)\n",
    "    )\n"
   ]
  },
  {
   "cell_type": "code",
   "execution_count": 5,
   "metadata": {},
   "outputs": [
    {
     "name": "stdout",
     "output_type": "stream",
     "text": [
      "k=15, p=0.000, sum_cards=0.000, sum_p=0.000\n",
      "k=16, p=0.000, sum_cards=0.000, sum_p=0.000\n",
      "k=17, p=0.000, sum_cards=0.000, sum_p=0.000\n",
      "k=18, p=0.000, sum_cards=0.000, sum_p=0.000\n",
      "k=19, p=0.000, sum_cards=0.000, sum_p=0.000\n",
      "k=20, p=0.000, sum_cards=0.000, sum_p=0.000\n",
      "k=21, p=0.000, sum_cards=0.000, sum_p=0.000\n",
      "k=22, p=0.000, sum_cards=0.000, sum_p=0.000\n",
      "k=23, p=0.000, sum_cards=0.001, sum_p=0.000\n",
      "k=24, p=0.000, sum_cards=0.002, sum_p=0.000\n",
      "k=25, p=0.000, sum_cards=0.003, sum_p=0.000\n",
      "k=26, p=0.000, sum_cards=0.007, sum_p=0.000\n",
      "k=27, p=0.000, sum_cards=0.013, sum_p=0.001\n",
      "k=28, p=0.000, sum_cards=0.025, sum_p=0.001\n",
      "k=29, p=0.001, sum_cards=0.044, sum_p=0.002\n",
      "k=30, p=0.001, sum_cards=0.078, sum_p=0.003\n",
      "k=31, p=0.002, sum_cards=0.132, sum_p=0.004\n",
      "k=32, p=0.003, sum_cards=0.219, sum_p=0.007\n",
      "k=33, p=0.004, sum_cards=0.354, sum_p=0.011\n",
      "k=34, p=0.006, sum_cards=0.560, sum_p=0.017\n",
      "k=35, p=0.009, sum_cards=0.867, sum_p=0.026\n",
      "k=36, p=0.012, sum_cards=1.315, sum_p=0.039\n",
      "k=37, p=0.017, sum_cards=1.957, sum_p=0.056\n",
      "k=38, p=0.024, sum_cards=2.858, sum_p=0.080\n",
      "k=39, p=0.032, sum_cards=4.096, sum_p=0.111\n",
      "k=40, p=0.042, sum_cards=5.764, sum_p=0.153\n",
      "k=41, p=0.054, sum_cards=7.962, sum_p=0.207\n",
      "k=42, p=0.067, sum_cards=10.792, sum_p=0.274\n",
      "k=43, p=0.083, sum_cards=14.341, sum_p=0.357\n",
      "k=44, p=0.098, sum_cards=18.659, sum_p=0.455\n",
      "k=45, p=0.112, sum_cards=23.719, sum_p=0.567\n",
      "k=46, p=0.123, sum_cards=29.361, sum_p=0.690\n",
      "k=47, p=0.124, sum_cards=35.211, sum_p=0.814\n",
      "k=48, p=0.111, sum_cards=40.560, sum_p=0.926\n",
      "k=49, p=0.074, sum_cards=44.200, sum_p=1.000\n",
      "k=50, p=0.000, sum_cards=44.200, sum_p=1.000\n",
      "k=51, p=-0.129, sum_cards=37.598, sum_p=0.871\n",
      "k=52, p=-0.339, sum_cards=19.994, sum_p=0.532\n",
      "The expected number of cards dealt for a 1 player game is 19.994.\n",
      "k=18, p=0.000, sum_cards=0.000, sum_p=0.000\n",
      "k=19, p=0.000, sum_cards=0.000, sum_p=0.000\n",
      "k=20, p=0.000, sum_cards=0.000, sum_p=0.000\n",
      "k=21, p=0.000, sum_cards=0.000, sum_p=0.000\n",
      "k=22, p=0.000, sum_cards=0.000, sum_p=0.000\n",
      "k=23, p=0.000, sum_cards=0.000, sum_p=0.000\n",
      "k=24, p=0.000, sum_cards=0.001, sum_p=0.000\n",
      "k=25, p=0.000, sum_cards=0.002, sum_p=0.000\n",
      "k=26, p=0.000, sum_cards=0.004, sum_p=0.000\n",
      "k=27, p=0.000, sum_cards=0.007, sum_p=0.000\n",
      "k=28, p=0.000, sum_cards=0.014, sum_p=0.001\n",
      "k=29, p=0.000, sum_cards=0.026, sum_p=0.001\n",
      "k=30, p=0.001, sum_cards=0.046, sum_p=0.002\n",
      "k=31, p=0.001, sum_cards=0.080, sum_p=0.003\n",
      "k=32, p=0.002, sum_cards=0.136, sum_p=0.004\n",
      "k=33, p=0.003, sum_cards=0.226, sum_p=0.007\n",
      "k=34, p=0.004, sum_cards=0.365, sum_p=0.011\n",
      "k=35, p=0.006, sum_cards=0.577, sum_p=0.017\n",
      "k=36, p=0.009, sum_cards=0.893, sum_p=0.026\n",
      "k=37, p=0.012, sum_cards=1.353, sum_p=0.039\n",
      "k=38, p=0.017, sum_cards=2.013, sum_p=0.056\n",
      "k=39, p=0.024, sum_cards=2.937, sum_p=0.080\n",
      "k=40, p=0.032, sum_cards=4.207, sum_p=0.111\n",
      "k=41, p=0.042, sum_cards=5.917, sum_p=0.153\n",
      "k=42, p=0.054, sum_cards=8.169, sum_p=0.207\n",
      "k=43, p=0.067, sum_cards=11.066, sum_p=0.274\n",
      "k=44, p=0.083, sum_cards=14.698, sum_p=0.357\n",
      "k=45, p=0.098, sum_cards=19.114, sum_p=0.455\n",
      "k=46, p=0.112, sum_cards=24.286, sum_p=0.567\n",
      "k=47, p=0.123, sum_cards=30.051, sum_p=0.690\n",
      "k=48, p=0.124, sum_cards=36.026, sum_p=0.814\n",
      "k=49, p=0.111, sum_cards=41.486, sum_p=0.926\n",
      "k=50, p=0.074, sum_cards=45.200, sum_p=1.000\n",
      "k=51, p=0.000, sum_cards=45.200, sum_p=1.000\n",
      "k=52, p=-0.129, sum_cards=38.469, sum_p=0.871\n",
      "The expected number of cards dealt for a 2 player game is 38.469.\n",
      "k=21, p=0.000, sum_cards=0.000, sum_p=0.000\n",
      "k=22, p=0.000, sum_cards=0.000, sum_p=0.000\n",
      "k=23, p=0.000, sum_cards=0.000, sum_p=0.000\n",
      "k=24, p=0.000, sum_cards=0.000, sum_p=0.000\n",
      "k=25, p=0.000, sum_cards=0.001, sum_p=0.000\n",
      "k=26, p=0.000, sum_cards=0.002, sum_p=0.000\n",
      "k=27, p=0.000, sum_cards=0.004, sum_p=0.000\n",
      "k=28, p=0.000, sum_cards=0.007, sum_p=0.000\n",
      "k=29, p=0.000, sum_cards=0.014, sum_p=0.001\n",
      "k=30, p=0.000, sum_cards=0.027, sum_p=0.001\n",
      "k=31, p=0.001, sum_cards=0.048, sum_p=0.002\n",
      "k=32, p=0.001, sum_cards=0.083, sum_p=0.003\n",
      "k=33, p=0.002, sum_cards=0.141, sum_p=0.004\n",
      "k=34, p=0.003, sum_cards=0.233, sum_p=0.007\n",
      "k=35, p=0.004, sum_cards=0.376, sum_p=0.011\n",
      "k=36, p=0.006, sum_cards=0.594, sum_p=0.017\n",
      "k=37, p=0.009, sum_cards=0.919, sum_p=0.026\n",
      "k=38, p=0.012, sum_cards=1.392, sum_p=0.039\n",
      "k=39, p=0.017, sum_cards=2.069, sum_p=0.056\n",
      "k=40, p=0.024, sum_cards=3.017, sum_p=0.080\n",
      "k=41, p=0.032, sum_cards=4.319, sum_p=0.111\n",
      "k=42, p=0.042, sum_cards=6.070, sum_p=0.153\n",
      "k=43, p=0.054, sum_cards=8.376, sum_p=0.207\n",
      "k=44, p=0.067, sum_cards=11.340, sum_p=0.274\n",
      "k=45, p=0.083, sum_cards=15.054, sum_p=0.357\n",
      "k=46, p=0.098, sum_cards=19.568, sum_p=0.455\n",
      "k=47, p=0.112, sum_cards=24.853, sum_p=0.567\n",
      "k=48, p=0.123, sum_cards=30.741, sum_p=0.690\n",
      "k=49, p=0.124, sum_cards=36.840, sum_p=0.814\n",
      "k=50, p=0.111, sum_cards=42.411, sum_p=0.926\n",
      "k=51, p=0.074, sum_cards=46.200, sum_p=1.000\n",
      "k=52, p=0.000, sum_cards=46.200, sum_p=1.000\n",
      "The expected number of cards dealt for a 3 player game is 46.200.\n",
      "k=24, p=0.000, sum_cards=0.000, sum_p=0.000\n",
      "k=25, p=0.000, sum_cards=0.000, sum_p=0.000\n",
      "k=26, p=0.000, sum_cards=0.001, sum_p=0.000\n",
      "k=27, p=0.000, sum_cards=0.002, sum_p=0.000\n",
      "k=28, p=0.000, sum_cards=0.004, sum_p=0.000\n",
      "k=29, p=0.000, sum_cards=0.008, sum_p=0.000\n",
      "k=30, p=0.000, sum_cards=0.015, sum_p=0.001\n",
      "k=31, p=0.000, sum_cards=0.027, sum_p=0.001\n",
      "k=32, p=0.001, sum_cards=0.049, sum_p=0.002\n",
      "k=33, p=0.001, sum_cards=0.086, sum_p=0.003\n",
      "k=34, p=0.002, sum_cards=0.145, sum_p=0.004\n",
      "k=35, p=0.003, sum_cards=0.240, sum_p=0.007\n",
      "k=36, p=0.004, sum_cards=0.387, sum_p=0.011\n",
      "k=37, p=0.006, sum_cards=0.611, sum_p=0.017\n",
      "k=38, p=0.009, sum_cards=0.945, sum_p=0.026\n",
      "k=39, p=0.012, sum_cards=1.431, sum_p=0.039\n",
      "k=40, p=0.017, sum_cards=2.125, sum_p=0.056\n",
      "k=41, p=0.024, sum_cards=3.096, sum_p=0.080\n",
      "k=42, p=0.032, sum_cards=4.430, sum_p=0.111\n",
      "k=43, p=0.042, sum_cards=6.223, sum_p=0.153\n",
      "k=44, p=0.054, sum_cards=8.582, sum_p=0.207\n",
      "k=45, p=0.067, sum_cards=11.614, sum_p=0.274\n",
      "k=46, p=0.083, sum_cards=15.411, sum_p=0.357\n",
      "k=47, p=0.098, sum_cards=20.023, sum_p=0.455\n",
      "k=48, p=0.112, sum_cards=25.420, sum_p=0.567\n",
      "k=49, p=0.123, sum_cards=31.431, sum_p=0.690\n",
      "k=50, p=0.124, sum_cards=37.654, sum_p=0.814\n",
      "k=51, p=0.111, sum_cards=43.337, sum_p=0.926\n",
      "k=52, p=0.074, sum_cards=47.200, sum_p=1.000\n",
      "The expected number of cards dealt for a 4 player game is 47.200.\n"
     ]
    }
   ],
   "source": [
    "for num_players in range(1, 5):\n",
    "    avg_cards_dealt = 0\n",
    "    p_sum = 0\n",
    "    for k in range(3*num_players+12, 53):\n",
    "        p = p_end(k, num_players)\n",
    "        p_sum += p\n",
    "        avg_cards_dealt += k * p\n",
    "        print(f'k={k}, p={p:.3f}, sum_cards={avg_cards_dealt:.3f}, sum_p={p_sum:.3f}')\n",
    "    print(f'The expected number of cards dealt for a {num_players} player game is {avg_cards_dealt:.3f}.')"
   ]
  },
  {
   "cell_type": "code",
   "execution_count": 18,
   "metadata": {},
   "outputs": [
    {
     "data": {
      "image/png": "[encoded data removed]",
      "text/plain": [
       "<Figure size 600x400 with 1 Axes>"
      ]
     },
     "metadata": {
      "needs_background": "light"
     },
     "output_type": "display_data"
    }
   ],
   "source": [
    "for num_players in range(1, 5):\n",
    "    k = list(range(3*num_players+12, 51))\n",
    "    p = []\n",
    "    for i in k:\n",
    "        p.append(p_end(i, num_players))\n",
    "    plt.plot(k, p)"
   ]
  },
  {
   "cell_type": "markdown",
   "metadata": {},
   "source": [
    "The sum of this probability distribution over all values of k:\n",
    "\n",
    "| $N_{players}$ | $p(k_{13})$ |\n",
    "| --- | --- |\n",
    "| 1 | 1.000 |\n",
    "| 2 | 1.000 |\n",
    "| 3 | 0.926 |\n",
    "| 4 | 0.814 |\n",
    "\n",
    "What are the unaccounted for possibilities for 3 and 4 player games?\n",
    "\n",
    "It seems like 3 players is missing the last $p(k_{13})$ that 1 and 2 player games have.  i.e.\n",
    "\n",
    "$$1 - 0.926 = 0.074$$\n",
    "\n",
    "It seems like 3 players is missing that and also the second to last value.  i.e.\n",
    "\n",
    "$$1 - 0.814 = 0.186 = 0.074 + 0.111$$"
   ]
  },
  {
   "cell_type": "code",
   "execution_count": null,
   "metadata": {},
   "outputs": [],
   "source": []
  }
 ],
 "metadata": {
  "interpreter": {
   "hash": "df4e6b70a5fe3c12393ad7d487e5616e7544ce8f37b0ece5df19391db8b0b32b"
  },
  "kernelspec": {
   "display_name": "Python 3.8.10 ('env': venv)",
   "language": "python",
   "name": "python3"
  },
  "language_info": {
   "codemirror_mode": {
    "name": "ipython",
    "version": 3
   },
   "file_extension": ".py",
   "mimetype": "text/x-python",
   "name": "python",
   "nbconvert_exporter": "python",
   "pygments_lexer": "ipython3",
   "version": "3.8.10"
  },
  "orig_nbformat": 4
 },
 "nbformat": 4,
 "nbformat_minor": 2
}
