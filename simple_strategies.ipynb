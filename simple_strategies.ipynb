{
 "cells": [
  {
   "cell_type": "markdown",
   "metadata": {},
   "source": [
    "# Evaluation of simple strategies in Hoot Owl Hoot"
   ]
  },
  {
   "cell_type": "code",
   "execution_count": 1,
   "metadata": {},
   "outputs": [],
   "source": [
    "from agent import Agent\n",
    "N_GAMES_FOR_EVAL = 1E3"
   ]
  },
  {
   "cell_type": "markdown",
   "metadata": {},
   "source": [
    "# Strategy: Always move the owl that is closest to the nest"
   ]
  },
  {
   "cell_type": "code",
   "execution_count": 2,
   "metadata": {},
   "outputs": [],
   "source": [
    "class FirstOwlAgent(Agent):\n",
    "\n",
    "    def move(self):\n",
    "        self.move_nth_owl_randomly(5)"
   ]
  },
  {
   "cell_type": "markdown",
   "metadata": {},
   "source": [
    "Show an example of a game played with 4 hands"
   ]
  },
  {
   "cell_type": "code",
   "execution_count": 3,
   "metadata": {},
   "outputs": [
    {
     "name": "stdout",
     "output_type": "stream",
     "text": [
      "ygobprbprygborpygobprgyobprygborpygborpN\n",
      "******                                  | ySb oyS | Sun: 0\n",
      "******                                  | ybp oyS | Sun: 1\n",
      "******                                  | ybp oyr | Sun: 2\n",
      "***** *                                 | ypy oyr | Sun: 2\n",
      "*****   *                               | ypy oyy | Sun: 2\n",
      "*****    *                              | pyS oyy | Sun: 2\n",
      "*****       *                           | pyS yyo | Sun: 2\n",
      "*****       *                           | pyp yyo | Sun: 3\n",
      "*****            *                      | pyp yyb | Sun: 3\n",
      "*****                 *                 | ppS yyb | Sun: 3\n",
      "*****                      *            | ppS ybb | Sun: 3\n",
      "*****                      *            | ppo ybb | Sun: 4\n",
      "*****                        *          | ppo ybS | Sun: 4\n",
      "*****                         *         | ppg ybS | Sun: 4\n",
      "*****                         *         | ppg ybo | Sun: 5\n",
      "*****                           *       | pgS ybo | Sun: 5\n",
      "*****                              *    | pgS yoy | Sun: 5\n",
      "*****                              *    | pgg yoy | Sun: 6\n",
      "*****                               *   | pgg yyy | Sun: 6\n",
      "*****                                 * | ggp yyy | Sun: 6\n",
      "*****                                   | ggp yyb | Sun: 6\n",
      "****      *                             | gpp yyb | Sun: 6\n",
      "****           *                        | gpp ybS | Sun: 6\n",
      "****            *                       | ppr ybS | Sun: 6\n",
      "****            *                       | ppr ybr | Sun: 7\n",
      "****                *                   | ppo ybr | Sun: 7\n",
      "****                      *             | ppo ybo | Sun: 7\n",
      "****                            *       | por ybo | Sun: 7\n",
      "****                                *   | por ybg | Sun: 7\n",
      "****                                    | prS ybg | Sun: 7\n",
      "***   *                                 | prS ygS | Sun: 7\n",
      "***   *                                 | prg ygS | Sun: 8\n",
      "***   *                                 | prg ygr | Sun: 9\n",
      "***    *                                | rgS ygr | Sun: 9\n",
      "***       *                             | rgS yrg | Sun: 9\n",
      "***       *                             | rgb yrg | Sun: 10\n",
      "***            *                        | rgb rgr | Sun: 10\n",
      "***               *                     | rgS rgr | Sun: 10\n",
      "***                  *                  | rgS rrS | Sun: 10\n",
      "***                  *                  | rgS rrS | Sun: 11\n",
      "***                  *                  | rgS rrb | Sun: 12\n",
      "***                  *                  | rgS rrb | Sun: 13\n",
      "Game result: Loss\n"
     ]
    }
   ],
   "source": [
    "a = FirstOwlAgent(n_hands=2)\n",
    "r = a.play_game(show_game=True)"
   ]
  },
  {
   "cell_type": "markdown",
   "metadata": {},
   "source": [
    "Evaluation of win rates for two, three, and four hand games using this strategy"
   ]
  },
  {
   "cell_type": "code",
   "execution_count": 4,
   "metadata": {},
   "outputs": [
    {
     "name": "stdout",
     "output_type": "stream",
     "text": [
      "With 2 hands: 0.0% win rate over 1,000 games\n",
      "With 3 hands: 0.0% win rate over 1,000 games\n",
      "With 4 hands: 0.0% win rate over 1,000 games\n"
     ]
    }
   ],
   "source": [
    "stats = {}\n",
    "for n_hands in range(2, 5):\n",
    "    a = FirstOwlAgent(n_hands=n_hands)\n",
    "    stats[n_hands] = a.play_n_games(int(N_GAMES_FOR_EVAL))\n",
    "    print(f\"With {n_hands} hands: {stats[n_hands]['win rate']:.1%} win rate over {stats[n_hands]['count']:,} games\")"
   ]
  },
  {
   "cell_type": "markdown",
   "metadata": {},
   "source": [
    "## Strategy: Always move the owl that is furthest from the nest"
   ]
  },
  {
   "cell_type": "code",
   "execution_count": 5,
   "metadata": {},
   "outputs": [],
   "source": [
    "class LastOwlAgent(Agent):\n",
    "\n",
    "    def move(self):\n",
    "        self.move_nth_owl_randomly(0)"
   ]
  },
  {
   "cell_type": "markdown",
   "metadata": {},
   "source": [
    "Show an example of a game played with 4 hands"
   ]
  },
  {
   "cell_type": "code",
   "execution_count": 6,
   "metadata": {},
   "outputs": [
    {
     "name": "stdout",
     "output_type": "stream",
     "text": [
      "ygobprbprygborpygobprgyobprygborpygborpN\n",
      "******                                  | gSy roS | Sun: 0\n",
      "******                                  | gyb roS | Sun: 1\n",
      "******                                  | gyb rop | Sun: 2\n",
      " *****   *                              | gbo rop | Sun: 2\n",
      "  ****   *  *                           | gbo rpg | Sun: 2\n",
      "   ****  *  *                           | goS rpg | Sun: 2\n",
      "    *** **  *                           | goS pgy | Sun: 2\n",
      "    *** **  *                           | goS pgy | Sun: 3\n",
      "     ** **  *  *                        | goS pgp | Sun: 3\n",
      "     ** **  *  *                        | goo pgp | Sun: 4\n",
      "      * *** *  *                        | goo ppS | Sun: 4\n",
      "        *** *  * *                      | gop ppS | Sun: 4\n",
      "        *** *  * *                      | gop ppy | Sun: 5\n",
      "         ** * ** *                      | gog ppy | Sun: 5\n",
      "          * * ** *    *                 | gog ppb | Sun: 5\n",
      "            * ** *    **                | ggg ppb | Sun: 5\n",
      "              ** * *  **                | ggg pbS | Sun: 5\n",
      "               *** *  **                | ggr pbS | Sun: 5\n",
      "               *** *  **                | ggr pbS | Sun: 6\n",
      "                ** * ***                | grb pbS | Sun: 6\n",
      "                ** * ***                | grb pbo | Sun: 7\n",
      "                 *** ***                | grg pbo | Sun: 7\n",
      "                  ** ***      *         | grg pbr | Sun: 7\n",
      "                   *****      *         | ggS pbr | Sun: 7\n",
      "                    ****  *   *         | ggS pbg | Sun: 7\n",
      "                    ****  *   *         | ggp pbg | Sun: 8\n",
      "                     **** *   *         | ggp pgr | Sun: 8\n",
      "                      *****   *         | ggS pgr | Sun: 8\n",
      "                       ****   * *       | ggS grb | Sun: 8\n",
      "                       ****   * *       | ggb grb | Sun: 9\n",
      "                        *** * * *       | ggb rby | Sun: 9\n",
      "                         ** * * * *     | gbS rby | Sun: 9\n",
      "                          * * *** *     | gbS byy | Sun: 9\n",
      "                          * * *** *     | gbS byy | Sun: 10\n",
      "                           ** *** *     | gbS byy | Sun: 10\n",
      "                           ** *** *     | gbo byy | Sun: 11\n",
      "                            * *****     | gbo byp | Sun: 11\n",
      "                             ******     | goo byp | Sun: 11\n",
      "                              ******    | goo ypS | Sun: 11\n",
      "                               ******   | goS ypS | Sun: 11\n",
      "                               ******   | goS ypb | Sun: 12\n",
      "                               ******   | gor ypb | Sun: 13\n",
      "Game result: Loss\n"
     ]
    }
   ],
   "source": [
    "a = LastOwlAgent(n_hands=2)\n",
    "r = a.play_game(show_game=True)"
   ]
  },
  {
   "cell_type": "markdown",
   "metadata": {},
   "source": [
    "Evaluation of win rates for two, three, and four hand games using this strategy"
   ]
  },
  {
   "cell_type": "code",
   "execution_count": 7,
   "metadata": {},
   "outputs": [
    {
     "name": "stdout",
     "output_type": "stream",
     "text": [
      "With 2 hands: 5.6% win rate over 1,000 games\n",
      "With 3 hands: 1.5% win rate over 1,000 games\n",
      "With 4 hands: 0.4% win rate over 1,000 games\n"
     ]
    }
   ],
   "source": [
    "stats = {}\n",
    "for n_hands in range(2, 5):\n",
    "    a = LastOwlAgent(n_hands=n_hands)\n",
    "    stats[n_hands] = a.play_n_games(int(N_GAMES_FOR_EVAL))\n",
    "    print(f\"With {n_hands} hands: {stats[n_hands]['win rate']:.1%} win rate over {stats[n_hands]['count']:,} games\")"
   ]
  }
 ],
 "metadata": {
  "interpreter": {
   "hash": "31f2aee4e71d21fbe5cf8b01ff0e069b9275f58929596ceb00d14d90e3e16cd6"
  },
  "kernelspec": {
   "display_name": "Python 3.8.9 64-bit",
   "language": "python",
   "name": "python3"
  },
  "language_info": {
   "codemirror_mode": {
    "name": "ipython",
    "version": 3
   },
   "file_extension": ".py",
   "mimetype": "text/x-python",
   "name": "python",
   "nbconvert_exporter": "python",
   "pygments_lexer": "ipython3",
   "version": "3.9.10"
  },
  "orig_nbformat": 4
 },
 "nbformat": 4,
 "nbformat_minor": 2
}
