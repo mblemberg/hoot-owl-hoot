{
 "cells": [
  {
   "cell_type": "markdown",
   "metadata": {},
   "source": [
    "# Evaluation of simple strategies in Hoot Owl Hoot"
   ]
  },
  {
   "cell_type": "code",
   "execution_count": 1,
   "metadata": {},
   "outputs": [],
   "source": [
    "from agent import Agent"
   ]
  },
  {
   "cell_type": "code",
   "execution_count": 2,
   "metadata": {},
   "outputs": [],
   "source": [
    "import random\n",
    "\n",
    "\n",
    "class LastOwlAgent(Agent):\n",
    "\n",
    "    def move(self):\n",
    "        self.move_nth_owl_randomly(0)\n"
   ]
  },
  {
   "cell_type": "markdown",
   "metadata": {},
   "source": [
    "## Strategy: Always move the owl that is furthest from the nest\n",
    "Evaluation of win rates for two, three, and four hand games using this strategy"
   ]
  },
  {
   "cell_type": "code",
   "execution_count": 3,
   "metadata": {},
   "outputs": [],
   "source": [
    "win_rate = {}\n",
    "\n",
    "for n_hands in range(2, 5):\n",
    "    a = LastOwlAgent(n_hands=n_hands)\n",
    "    stats = a.play_n_games(10000)\n",
    "    win_rate[n_hands] = stats['wins']"
   ]
  },
  {
   "cell_type": "code",
   "execution_count": 4,
   "metadata": {},
   "outputs": [
    {
     "name": "stdout",
     "output_type": "stream",
     "text": [
      "0\n"
     ]
    }
   ],
   "source": [
    "print(win_rate[2])"
   ]
  },
  {
   "cell_type": "code",
   "execution_count": 5,
   "metadata": {},
   "outputs": [
    {
     "name": "stdout",
     "output_type": "stream",
     "text": [
      "ygobprbprygborpygobprgyobprygborpygborp\n",
      "******                                  Sun: 0\n",
      " *****  *                               Sun: 0\n",
      "  ****  *   *                           Sun: 0\n",
      "   **** *   *                           Sun: 0\n",
      "   **** *   *                           Sun: 1\n",
      "    *****   *                           Sun: 1\n",
      "     ****   **                          Sun: 1\n",
      "      *** * **                          Sun: 1\n",
      "       **** **                          Sun: 1\n",
      "        ******                          Sun: 1\n",
      "         ***** *                        Sun: 1\n",
      "          **** * *                      Sun: 1\n",
      "          **** * *                      Sun: 2\n",
      "           *** * *    *                 Sun: 2\n",
      "            ** ***    *                 Sun: 2\n",
      "             * ***  * *                 Sun: 2\n",
      "               ***  * *   *             Sun: 2\n",
      "               ***  * *   *             Sun: 3\n",
      "                ** ** *   *             Sun: 3\n",
      "                ** ** *   *             Sun: 4\n",
      "                 * ** **  *             Sun: 4\n",
      "                 * ** **  *             Sun: 5\n",
      "                   *****  *             Sun: 5\n",
      "                    ****  * *           Sun: 5\n",
      "                    ****  * *           Sun: 6\n",
      "                     ***  * *  *        Sun: 6\n",
      "                     ***  * *  *        Sun: 7\n",
      "                     ***  * *  *        Sun: 8\n",
      "                      **  * * **        Sun: 8\n",
      "                       * ** * **        Sun: 8\n",
      "                         ** * ***       Sun: 8\n",
      "                          *** ***       Sun: 8\n",
      "                           ** ****      Sun: 8\n",
      "                            * ****    * Sun: 8\n",
      "                            * ****    * Sun: 9\n",
      "                            * ****    * Sun: 10\n",
      "                             *****    * Sun: 10\n",
      "                              ****    * Sun: 10\n",
      "                               ***  * * Sun: 10\n",
      "                                **  *** Sun: 10\n",
      "                                **  *** Sun: 11\n",
      "                                 ** *** Sun: 11\n",
      "                                 ** *** Sun: 12\n",
      "                                 ** *** Sun: 13\n",
      "Game result: LOST\n"
     ]
    }
   ],
   "source": [
    "a = LastOwlAgent(n_hands=2)\n",
    "r = a.play_game(show_game=True)"
   ]
  },
  {
   "cell_type": "code",
   "execution_count": null,
   "metadata": {},
   "outputs": [],
   "source": []
  }
 ],
 "metadata": {
  "interpreter": {
   "hash": "31f2aee4e71d21fbe5cf8b01ff0e069b9275f58929596ceb00d14d90e3e16cd6"
  },
  "kernelspec": {
   "display_name": "Python 3.8.9 64-bit",
   "language": "python",
   "name": "python3"
  },
  "language_info": {
   "codemirror_mode": {
    "name": "ipython",
    "version": 3
   },
   "file_extension": ".py",
   "mimetype": "text/x-python",
   "name": "python",
   "nbconvert_exporter": "python",
   "pygments_lexer": "ipython3",
   "version": "3.9.10"
  },
  "orig_nbformat": 4
 },
 "nbformat": 4,
 "nbformat_minor": 2
}
