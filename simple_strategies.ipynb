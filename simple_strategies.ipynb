{
 "cells": [
  {
   "cell_type": "markdown",
   "metadata": {},
   "source": [
    "# Evaluation of simple strategies in Hoot Owl Hoot"
   ]
  },
  {
   "cell_type": "code",
   "execution_count": 1,
   "metadata": {},
   "outputs": [],
   "source": [
    "from agent import Agent\n",
    "N_GAMES_FOR_EVAL = 1E4"
   ]
  },
  {
   "cell_type": "markdown",
   "metadata": {},
   "source": [
    "# Baseline: Make a random legal move"
   ]
  },
  {
   "cell_type": "code",
   "execution_count": 2,
   "metadata": {},
   "outputs": [],
   "source": [
    "class RandomMoveAgent(Agent):\n",
    "\n",
    "    def move(self):\n",
    "        self.make_random_move()"
   ]
  },
  {
   "cell_type": "markdown",
   "metadata": {},
   "source": [
    "Show an example of a game played with 2 hands"
   ]
  },
  {
   "cell_type": "code",
   "execution_count": 3,
   "metadata": {},
   "outputs": [
    {
     "name": "stdout",
     "output_type": "stream",
     "text": [
      "ygobprbprygborpygobprgyobprygborpygborpN\n",
      "******                                  | pro ySy | Sun: 0\n",
      "*** **      *                           | pro ySy | Sun: 0\n",
      "*** **      *                           | pro yyp | Sun: 1\n",
      "***  * *    *                           | rob yyp | Sun: 1\n",
      "**   * * *  *                           | rob ypS | Sun: 1\n",
      "**     ***  *                           | obb ypS | Sun: 1\n",
      "**     ***  *                           | obb ypg | Sun: 2\n",
      "**     ***        *                     | obS ypg | Sun: 2\n",
      "**     * *     *  *                     | obS pgo | Sun: 2\n",
      "**     * *     *  *                     | obr pgo | Sun: 3\n",
      "**       *  *  *  *                     | obr pgS | Sun: 3\n",
      "**       *  *    **                     | brS pgS | Sun: 3\n",
      "**       *  *    **                     | brS pgr | Sun: 4\n",
      "**       *  *    **                     | brr pgr | Sun: 5\n",
      " *       ** *    **                     | brr prp | Sun: 5\n",
      "     *   ** *    **                     | brS prp | Sun: 5\n",
      "     *   ** *    *  *                   | brS ppg | Sun: 5\n",
      "     *   ** *    *  *                   | bro ppg | Sun: 6\n",
      "     *   ** *      **                   | bro pgb | Sun: 6\n",
      "     *    * **     **                   | bog pgb | Sun: 6\n",
      "     *    *  **    **                   | bog gbp | Sun: 6\n",
      "      *   *  **    **                   | ogp gbp | Sun: 6\n",
      "      *   *  **     *    *              | ogp gbS | Sun: 6\n",
      "      *   *  **     *           *       | ogp gbS | Sun: 6\n",
      "      *   *  **     *           *       | ogp gbr | Sun: 7\n",
      "      *   *  *  *   *           *       | opS gbr | Sun: 7\n",
      "      *   *  *  *   *             *     | opS brb | Sun: 7\n",
      "      *   *  *  *   *             *     | opg brb | Sun: 8\n",
      "      *   *  *  *         *       *     | opg bbb | Sun: 8\n",
      "      *   *  *  *         *             | opg bbb | Sun: 8\n",
      "      *   *  *    *       *             | opg bby | Sun: 8\n",
      "      *   *  *     *      *             | ogb bby | Sun: 8\n",
      "      *    * *     *      *             | ogb byS | Sun: 8\n",
      "      *    * *     *        *           | obS byS | Sun: 8\n",
      "      *    * *     *        *           | obS byy | Sun: 9\n",
      "      *    * *     *        *           | obS byy | Sun: 10\n",
      "      *      * *   *        *           | obS byo | Sun: 10\n",
      "      *      * *   *        *           | obo byo | Sun: 11\n",
      "            ** *   *        *           | obo byS | Sun: 11\n",
      "            *  *  **        *           | ooS byS | Sun: 11\n",
      "            *  *  **        *           | ooS byy | Sun: 12\n",
      "            *  *  **        *           | ooy byy | Sun: 13\n",
      "Game result: Loss\n"
     ]
    }
   ],
   "source": [
    "a = RandomMoveAgent(n_hands=2)\n",
    "r = a.play_game(show_game=True)"
   ]
  },
  {
   "cell_type": "markdown",
   "metadata": {},
   "source": [
    "Evaluation of win rates for two, three, and four hand games using this strategy"
   ]
  },
  {
   "cell_type": "code",
   "execution_count": 4,
   "metadata": {},
   "outputs": [
    {
     "name": "stdout",
     "output_type": "stream",
     "text": [
      "With 2 hands: 0.0% win rate over 10,000 games\n",
      "With 3 hands: 0.0% win rate over 10,000 games\n",
      "With 4 hands: 0.0% win rate over 10,000 games\n"
     ]
    }
   ],
   "source": [
    "stats = {}\n",
    "for n_hands in range(2, 5):\n",
    "    a = RandomMoveAgent(n_hands=n_hands)\n",
    "    stats[n_hands] = a.play_n_games(int(N_GAMES_FOR_EVAL))\n",
    "    print(f\"With {n_hands} hands: {stats[n_hands]['win rate']:.1%} win rate over {stats[n_hands]['count']:,} games\")"
   ]
  },
  {
   "cell_type": "markdown",
   "metadata": {},
   "source": [
    "# Strategy: Always move the owl that is closest to the nest"
   ]
  },
  {
   "cell_type": "code",
   "execution_count": 5,
   "metadata": {},
   "outputs": [],
   "source": [
    "class FirstOwlAgent(Agent):\n",
    "\n",
    "    def move(self):\n",
    "        self.move_nth_owl_randomly(5)"
   ]
  },
  {
   "cell_type": "markdown",
   "metadata": {},
   "source": [
    "Show an example of a game played with 2 hands"
   ]
  },
  {
   "cell_type": "code",
   "execution_count": 6,
   "metadata": {},
   "outputs": [
    {
     "name": "stdout",
     "output_type": "stream",
     "text": [
      "ygobprbprygborpygobprgyobprygborpygborpN\n",
      "******                                  | ygr ybS | Sun: 0\n",
      "*****   *                               | ygS ybS | Sun: 0\n",
      "*****   *                               | ygS ybS | Sun: 1\n",
      "*****   *                               | ygo ybS | Sun: 2\n",
      "*****   *                               | ygo ybr | Sun: 3\n",
      "*****    *                              | goo ybr | Sun: 3\n",
      "*****      *                            | goo yrS | Sun: 3\n",
      "*****           *                       | oop yrS | Sun: 3\n",
      "*****           *                       | oop yrp | Sun: 4\n",
      "*****            *                      | opg yrp | Sun: 4\n",
      "*****                 *                 | opg rpS | Sun: 4\n",
      "*****                    *              | ogy rpS | Sun: 4\n",
      "*****                    *              | ogy rpg | Sun: 5\n",
      "*****                      *            | ogS rpg | Sun: 5\n",
      "*****                          *        | ogS pgb | Sun: 5\n",
      "*****                          *        | ogb pgb | Sun: 6\n",
      "*****                           *       | ogb gbS | Sun: 6\n",
      "*****                               *   | gbp gbS | Sun: 6\n",
      "*****                               *   | gbp gby | Sun: 7\n",
      "*****                                 * | gbg gby | Sun: 7\n",
      "*****                                   | gbg gyr | Sun: 7\n",
      "****      *                             | bgo gyr | Sun: 7\n",
      "****           *                        | bgo grp | Sun: 7\n",
      "****            *                       | bor grp | Sun: 7\n",
      "****                 *                  | bor rpg | Sun: 7\n",
      "****                   *                | brS rpg | Sun: 7\n",
      "****                      *             | brS pgo | Sun: 7\n",
      "****                      *             | brg pgo | Sun: 8\n",
      "****                            *       | brg goo | Sun: 8\n",
      "****                               *    | rgS goo | Sun: 8\n",
      "****                                    | rgS oor | Sun: 8\n",
      "****                                    | rgS oor | Sun: 9\n",
      "***         *                           | rgS orb | Sun: 9\n",
      "***         *                           | rgp orb | Sun: 10\n",
      "***               *                     | rgp orS | Sun: 10\n",
      "***                  *                  | rpy orS | Sun: 10\n",
      "***                  *                  | rpy orb | Sun: 11\n",
      "***                   *                 | rpy orb | Sun: 11\n",
      "***                    *                | rpy rbp | Sun: 11\n",
      "***                        *            | rpS rbp | Sun: 11\n",
      "***                          *          | rpS rpS | Sun: 11\n",
      "***                          *          | rpo rpS | Sun: 12\n",
      "***                          *          | rpo rpr | Sun: 13\n",
      "Game result: Loss\n"
     ]
    }
   ],
   "source": [
    "a = FirstOwlAgent(n_hands=2)\n",
    "r = a.play_game(show_game=True)"
   ]
  },
  {
   "cell_type": "markdown",
   "metadata": {},
   "source": [
    "Evaluation of win rates for two, three, and four hand games using this strategy"
   ]
  },
  {
   "cell_type": "code",
   "execution_count": 7,
   "metadata": {},
   "outputs": [
    {
     "name": "stdout",
     "output_type": "stream",
     "text": [
      "With 2 hands: 0.0% win rate over 10,000 games\n",
      "With 3 hands: 0.0% win rate over 10,000 games\n",
      "With 4 hands: 0.0% win rate over 10,000 games\n"
     ]
    }
   ],
   "source": [
    "stats = {}\n",
    "for n_hands in range(2, 5):\n",
    "    a = FirstOwlAgent(n_hands=n_hands)\n",
    "    stats[n_hands] = a.play_n_games(int(N_GAMES_FOR_EVAL))\n",
    "    print(f\"With {n_hands} hands: {stats[n_hands]['win rate']:.1%} win rate over {stats[n_hands]['count']:,} games\")"
   ]
  },
  {
   "cell_type": "markdown",
   "metadata": {},
   "source": [
    "## Strategy: Always move the owl that is furthest from the nest"
   ]
  },
  {
   "cell_type": "code",
   "execution_count": 8,
   "metadata": {},
   "outputs": [],
   "source": [
    "class LastOwlAgent(Agent):\n",
    "\n",
    "    def move(self):\n",
    "        self.move_nth_owl_randomly(0)"
   ]
  },
  {
   "cell_type": "markdown",
   "metadata": {},
   "source": [
    "Show an example of a game played with 2 hands"
   ]
  },
  {
   "cell_type": "code",
   "execution_count": 9,
   "metadata": {},
   "outputs": [
    {
     "name": "stdout",
     "output_type": "stream",
     "text": [
      "ygobprbprygborpygobprgyobprygborpygborpN\n",
      "******                                  | goy pSg | Sun: 0\n",
      " *****      *                           | gyr pSg | Sun: 0\n",
      " *****      *                           | gyr pgS | Sun: 1\n",
      "  ****   *  *                           | grS pgS | Sun: 1\n",
      "  ****   *  *                           | grS pgS | Sun: 2\n",
      "  ****   *  *                           | gro pgS | Sun: 3\n",
      "  ****   *  *                           | gro pgp | Sun: 4\n",
      "   ***   ** *                           | rog pgp | Sun: 4\n",
      "    ** * ** *                           | rog gpo | Sun: 4\n",
      "     * * ** *    *                      | rgS gpo | Sun: 4\n",
      "       * ** *    *     *                | rgS gpS | Sun: 4\n",
      "       * ** *    *     *                | rgb gpS | Sun: 5\n",
      "       * ** *    *     *                | rgb gpp | Sun: 6\n",
      "        *** *    *     *                | gbb gpp | Sun: 6\n",
      "         ** *   **     *                | gbb ppb | Sun: 6\n",
      "          ***   **     *                | gbr ppb | Sun: 6\n",
      "           ** * **     *                | gbr pbb | Sun: 6\n",
      "            * * **   * *                | brS pbb | Sun: 6\n",
      "              * ***  * *                | brS pbo | Sun: 6\n",
      "              * ***  * *                | brg pbo | Sun: 7\n",
      "                ***  * *      *         | brg pby | Sun: 7\n",
      "                 ** ** *      *         | bgy pby | Sun: 7\n",
      "                  **** *      *         | bgy byb | Sun: 7\n",
      "                   *****      *         | bgS byb | Sun: 7\n",
      "                    *****     *         | bgS ybS | Sun: 7\n",
      "                    *****     *         | bgo ybS | Sun: 8\n",
      "                    *****     *         | bgo ybr | Sun: 9\n",
      "                     ****     *     *   | bgp ybr | Sun: 9\n",
      "                      ***  *  *     *   | bgp brb | Sun: 9\n",
      "                       **  * **     *   | gpg brb | Sun: 9\n",
      "                        * ** **     *   | gpg bby | Sun: 9\n",
      "                         *** **     *   | ggp bby | Sun: 9\n",
      "                          ** **  *  *   | ggp bbS | Sun: 9\n",
      "                           ****  *  *   | gpp bbS | Sun: 9\n",
      "                           ****  *  *   | gpp bbo | Sun: 10\n",
      "                            *** **  *   | gpr bbo | Sun: 10\n",
      "                             ** **  *   | gpr bbr | Sun: 10\n",
      "                              * **  * * | gry bbr | Sun: 10\n",
      "                               ***  * * | gry bbS | Sun: 10\n",
      "                                **  *** | gyS bbS | Sun: 10\n",
      "                                **  *** | gyS bbS | Sun: 11\n",
      "                                **  *** | gyS bbS | Sun: 12\n",
      "                                **  *** | gyS bbr | Sun: 13\n",
      "Game result: Loss\n"
     ]
    }
   ],
   "source": [
    "a = LastOwlAgent(n_hands=2)\n",
    "r = a.play_game(show_game=True)"
   ]
  },
  {
   "cell_type": "markdown",
   "metadata": {},
   "source": [
    "Evaluation of win rates for two, three, and four hand games using this strategy"
   ]
  },
  {
   "cell_type": "code",
   "execution_count": 10,
   "metadata": {},
   "outputs": [
    {
     "name": "stdout",
     "output_type": "stream",
     "text": [
      "With 2 hands: 7.2% win rate over 10,000 games\n",
      "With 3 hands: 1.7% win rate over 10,000 games\n",
      "With 4 hands: 0.2% win rate over 10,000 games\n"
     ]
    }
   ],
   "source": [
    "stats = {}\n",
    "for n_hands in range(2, 5):\n",
    "    a = LastOwlAgent(n_hands=n_hands)\n",
    "    stats[n_hands] = a.play_n_games(int(N_GAMES_FOR_EVAL))\n",
    "    print(f\"With {n_hands} hands: {stats[n_hands]['win rate']:.1%} win rate over {stats[n_hands]['count']:,} games\")"
   ]
  }
 ],
 "metadata": {
  "interpreter": {
   "hash": "31f2aee4e71d21fbe5cf8b01ff0e069b9275f58929596ceb00d14d90e3e16cd6"
  },
  "kernelspec": {
   "display_name": "Python 3.8.9 64-bit",
   "language": "python",
   "name": "python3"
  },
  "language_info": {
   "codemirror_mode": {
    "name": "ipython",
    "version": 3
   },
   "file_extension": ".py",
   "mimetype": "text/x-python",
   "name": "python",
   "nbconvert_exporter": "python",
   "pygments_lexer": "ipython3",
   "version": "3.9.10"
  },
  "orig_nbformat": 4
 },
 "nbformat": 4,
 "nbformat_minor": 2
}
