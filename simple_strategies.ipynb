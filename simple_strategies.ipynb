{
 "cells": [
  {
   "cell_type": "markdown",
   "metadata": {},
   "source": [
    "# Evaluation of simple strategies in Hoot Owl Hoot"
   ]
  },
  {
   "cell_type": "code",
   "execution_count": 1,
   "metadata": {},
   "outputs": [],
   "source": [
    "from agent import Agent\n",
    "N_GAMES_FOR_EVAL = 1E5"
   ]
  },
  {
   "cell_type": "markdown",
   "metadata": {},
   "source": [
    "# Baseline: Make a random legal move"
   ]
  },
  {
   "cell_type": "code",
   "execution_count": 2,
   "metadata": {},
   "outputs": [],
   "source": [
    "class RandomMoveAgent(Agent):\n",
    "\n",
    "    def move(self):\n",
    "        self.make_random_move()"
   ]
  },
  {
   "cell_type": "markdown",
   "metadata": {},
   "source": [
    "Show an example of a game played with 2 hands"
   ]
  },
  {
   "cell_type": "code",
   "execution_count": 3,
   "metadata": {},
   "outputs": [
    {
     "name": "stdout",
     "output_type": "stream",
     "text": [
      "ygobprbprygborpygobprgyobprygborpygborpN\n",
      "******                                  | yoS goy | Sun: 0\n",
      "******                                  | yoS goy | Sun: 1\n",
      "*** **   *                              | yoS gob | Sun: 1\n",
      "*** **   *                              | yop gob | Sun: 2\n",
      "***  *   **                             | yop obo | Sun: 2\n",
      "***      ** *                           | ypy obo | Sun: 2\n",
      "***       * *    *                      | ypy bor | Sun: 2\n",
      " ** *     * *    *                      | yyS bor | Sun: 2\n",
      " **  *    * *    *                      | yyS boS | Sun: 2\n",
      " **  *    * *    *                      | yyr boS | Sun: 3\n",
      " **  *    * *    *                      | yyr bog | Sun: 4\n",
      " **  *    *    * *                      | yrS bog | Sun: 4\n",
      " **  *    *    *  *                     | yrS ogp | Sun: 4\n",
      " **  *    *    *  *                     | yrp ogp | Sun: 5\n",
      "  * **    *    *  *                     | yrp ogb | Sun: 5\n",
      "  * **    *       **                    | yrS ogb | Sun: 5\n",
      "  *  *    *     * **                    | yrS obS | Sun: 5\n",
      "  *  *    *     * **                    | yrr obS | Sun: 6\n",
      "  *  *    *     * **                    | yrr obg | Sun: 7\n",
      "     *  * *     * **                    | yrS obg | Sun: 7\n",
      "     *  * *     * *    *                | yrS bgy | Sun: 7\n",
      "     *  * *     * *    *                | yrr bgy | Sun: 8\n",
      "        ***     * *    *                | yrr bgp | Sun: 8\n",
      "         **  *  * *    *                | yrS bgp | Sun: 8\n",
      "         **  *    *    **               | yrS gpS | Sun: 8\n",
      "         **  *    *    **               | yrg gpS | Sun: 9\n",
      "         **  *    *    **               | yrg gpS | Sun: 10\n",
      "         **    *  *    **               | rgy gpS | Sun: 10\n",
      "         **    *  *    **               | rgy gpb | Sun: 11\n",
      "         *     *  *   ***               | rgr gpb | Sun: 11\n",
      "         *     *      ***    *          | rgr gpg | Sun: 11\n",
      "          *    *      ***    *          | rrS gpg | Sun: 11\n",
      "          *    *      ** *   *          | rrS ggr | Sun: 11\n",
      "          *    *      ** *   *          | rro ggr | Sun: 12\n",
      "          *    *      **  *  *          | rro ggS | Sun: 12\n",
      "            *  *      **  *  *          | rry ggS | Sun: 12\n",
      "            *  *      **  *  *          | rry ggb | Sun: 13\n",
      "Game result: Loss\n"
     ]
    }
   ],
   "source": [
    "a = RandomMoveAgent(n_hands=2)\n",
    "r = a.play_game(show_game=True)"
   ]
  },
  {
   "cell_type": "markdown",
   "metadata": {},
   "source": [
    "Evaluation of win rates for two, three, and four hand games using this strategy"
   ]
  },
  {
   "cell_type": "code",
   "execution_count": 4,
   "metadata": {},
   "outputs": [
    {
     "name": "stdout",
     "output_type": "stream",
     "text": [
      "With 2 hands: 0.0% win rate over 100,000 games\n",
      "With 3 hands: 0.0% win rate over 100,000 games\n",
      "With 4 hands: 0.0% win rate over 100,000 games\n"
     ]
    }
   ],
   "source": [
    "stats = {}\n",
    "for n_hands in range(2, 5):\n",
    "    a = RandomMoveAgent(n_hands=n_hands)\n",
    "    stats[n_hands] = a.play_n_games(int(N_GAMES_FOR_EVAL))\n",
    "    print(f\"With {n_hands} hands: {stats[n_hands]['win rate']:.1%} win rate over {stats[n_hands]['count']:,} games\")"
   ]
  },
  {
   "cell_type": "markdown",
   "metadata": {},
   "source": [
    "# Strategy: Always move the owl that is closest to the nest"
   ]
  },
  {
   "cell_type": "code",
   "execution_count": 5,
   "metadata": {},
   "outputs": [],
   "source": [
    "class FirstOwlAgent(Agent):\n",
    "\n",
    "    def move(self):\n",
    "        self.move_nth_owl_randomly(5)"
   ]
  },
  {
   "cell_type": "markdown",
   "metadata": {},
   "source": [
    "Show an example of a game played with 2 hands"
   ]
  },
  {
   "cell_type": "code",
   "execution_count": 6,
   "metadata": {},
   "outputs": [
    {
     "name": "stdout",
     "output_type": "stream",
     "text": [
      "ygobprbprygborpygobprgyobprygborpygborpN\n",
      "******                                  | rbS Sbr | Sun: 0\n",
      "******                                  | rbg Sbr | Sun: 1\n",
      "******                                  | rbg bro | Sun: 2\n",
      "*****   *                               | bgo bro | Sun: 2\n",
      "*****      *                            | bgo roo | Sun: 2\n",
      "*****       *                           | bgy roo | Sun: 2\n",
      "*****            *                      | bgy rob | Sun: 2\n",
      "*****                *                  | byg rob | Sun: 2\n",
      "*****                     *             | byg obp | Sun: 2\n",
      "*****                       *           | byp obp | Sun: 2\n",
      "*****                           *       | byp obp | Sun: 2\n",
      "*****                                 * | byr obp | Sun: 2\n",
      "*****                                   | byr bpg | Sun: 2\n",
      "****  *                                 | yrr bpg | Sun: 2\n",
      "****   *                                | yrr bgS | Sun: 2\n",
      "****    *                               | yry bgS | Sun: 2\n",
      "****    *                               | yry bgg | Sun: 3\n",
      "****     *                              | ryo bgg | Sun: 3\n",
      "****       *                            | ryo ggb | Sun: 3\n",
      "****           *                        | roo ggb | Sun: 3\n",
      "****            *                       | roo gbg | Sun: 3\n",
      "****             *                      | roS gbg | Sun: 3\n",
      "****              *                     | roS ggS | Sun: 3\n",
      "****              *                     | roo ggS | Sun: 4\n",
      "****              *                     | roo ggS | Sun: 5\n",
      "****                *                   | oor ggS | Sun: 5\n",
      "****                *                   | oor ggy | Sun: 6\n",
      "****                   *                | orb ggy | Sun: 6\n",
      "****                        *           | orb gyr | Sun: 6\n",
      "****                           *        | obp gyr | Sun: 6\n",
      "****                             *      | obp grp | Sun: 6\n",
      "****                                *   | bpp grp | Sun: 6\n",
      "****                                    | bpp rpS | Sun: 6\n",
      "*** *                                   | bpS rpS | Sun: 6\n",
      "*** *                                   | bpS rpS | Sun: 7\n",
      "*** *                                   | bpy rpS | Sun: 8\n",
      "*** *                                   | bpy rpS | Sun: 9\n",
      "***    *                                | byb rpS | Sun: 9\n",
      "***    *                                | byb rpS | Sun: 10\n",
      "***      *                              | bbS rpS | Sun: 10\n",
      "***      *                              | bbS rpy | Sun: 11\n",
      "***      *                              | bbS rpy | Sun: 12\n",
      "***          *                          | bbS pyy | Sun: 12\n",
      "***          *                          | bbS pyy | Sun: 13\n",
      "Game result: Loss\n"
     ]
    }
   ],
   "source": [
    "a = FirstOwlAgent(n_hands=2)\n",
    "r = a.play_game(show_game=True)"
   ]
  },
  {
   "cell_type": "markdown",
   "metadata": {},
   "source": [
    "Evaluation of win rates for two, three, and four hand games using this strategy"
   ]
  },
  {
   "cell_type": "code",
   "execution_count": 7,
   "metadata": {},
   "outputs": [
    {
     "name": "stdout",
     "output_type": "stream",
     "text": [
      "With 2 hands: 0.0% win rate over 100,000 games\n",
      "With 3 hands: 0.0% win rate over 100,000 games\n",
      "With 4 hands: 0.0% win rate over 100,000 games\n"
     ]
    }
   ],
   "source": [
    "stats = {}\n",
    "for n_hands in range(2, 5):\n",
    "    a = FirstOwlAgent(n_hands=n_hands)\n",
    "    stats[n_hands] = a.play_n_games(int(N_GAMES_FOR_EVAL))\n",
    "    print(f\"With {n_hands} hands: {stats[n_hands]['win rate']:.1%} win rate over {stats[n_hands]['count']:,} games\")"
   ]
  },
  {
   "cell_type": "markdown",
   "metadata": {},
   "source": [
    "## Strategy: Always move the owl that is furthest from the nest"
   ]
  },
  {
   "cell_type": "code",
   "execution_count": 8,
   "metadata": {},
   "outputs": [],
   "source": [
    "class LastOwlAgent(Agent):\n",
    "\n",
    "    def move(self):\n",
    "        self.move_nth_owl_randomly(0)"
   ]
  },
  {
   "cell_type": "markdown",
   "metadata": {},
   "source": [
    "Show an example of a game played with 2 hands"
   ]
  },
  {
   "cell_type": "code",
   "execution_count": 9,
   "metadata": {},
   "outputs": [
    {
     "name": "stdout",
     "output_type": "stream",
     "text": [
      "ygobprbprygborpygobprgyobprygborpygborpN\n",
      "******                                  | oop ySo | Sun: 0\n",
      " ***** *                                | oor ySo | Sun: 0\n",
      " ***** *                                | oor yob | Sun: 1\n",
      "  **** *    *                           | orr yob | Sun: 1\n",
      "   *** * *  *                           | orr obp | Sun: 1\n",
      "    ** ***  *                           | ory obp | Sun: 1\n",
      "     * ***  * *                         | ory obS | Sun: 1\n",
      "       ***  ***                         | oyS obS | Sun: 1\n",
      "       ***  ***                         | oyS obS | Sun: 2\n",
      "       ***  ***                         | oyg obS | Sun: 3\n",
      "       ***  ***                         | oyg obo | Sun: 4\n",
      "        **  ***  *                      | ygp obo | Sun: 4\n",
      "         *  ***  *     *                | ygp bor | Sun: 4\n",
      "            ***  * *   *                | ygg bor | Sun: 4\n",
      "             **  * **  *                | ygg boS | Sun: 4\n",
      "              * ** **  *                | ygr boS | Sun: 4\n",
      "              * ** **  *                | ygr bog | Sun: 5\n",
      "                ** *** *                | yrb bog | Sun: 5\n",
      "                 * *** *    *           | yrb boS | Sun: 5\n",
      "                  **** *    *           | yrS boS | Sun: 5\n",
      "                  **** *    *           | yrS bor | Sun: 6\n",
      "                  **** *    *           | yrS bor | Sun: 7\n",
      "                   *** *    * *         | yrS brb | Sun: 7\n",
      "                   *** *    * *         | yrg brb | Sun: 8\n",
      "                    ** *  * * *         | yrg bbS | Sun: 8\n",
      "                     ***  * * *         | rgS bbS | Sun: 8\n",
      "                     ***  * * *         | rgS bby | Sun: 9\n",
      "                     ***  * * *         | rgS bby | Sun: 10\n",
      "                      **  *** *         | rgS bbr | Sun: 10\n",
      "                      **  *** *         | rgS bbr | Sun: 11\n",
      "                       ** *** *         | rgS brp | Sun: 11\n",
      "                       ** *** *         | rgb brp | Sun: 12\n",
      "                        ***** *         | rgb bro | Sun: 12\n",
      "                         ******         | rgy bro | Sun: 12\n",
      "                          *****     *   | rgy brp | Sun: 12\n",
      "                           *****    *   | gyp brp | Sun: 12\n",
      "                            ****   **   | gyp rpy | Sun: 12\n",
      "                             ***  ***   | ypb rpy | Sun: 12\n",
      "                              **  ****  | ypb pyg | Sun: 12\n",
      "                               ** ****  | yby pyg | Sun: 12\n",
      "                                * ****  | yby pyb | Sun: 12\n",
      "                                 *****  | byg pyb | Sun: 12\n",
      "                                  ****  | byg pyS | Sun: 12\n",
      "                                   ***  | bgo pyS | Sun: 12\n",
      "                                   ***  | bgo pyS | Sun: 13\n",
      "Game result: Loss\n"
     ]
    }
   ],
   "source": [
    "a = LastOwlAgent(n_hands=2)\n",
    "r = a.play_game(show_game=True)"
   ]
  },
  {
   "cell_type": "markdown",
   "metadata": {},
   "source": [
    "Evaluation of win rates for two, three, and four hand games using this strategy"
   ]
  },
  {
   "cell_type": "code",
   "execution_count": 10,
   "metadata": {},
   "outputs": [
    {
     "name": "stdout",
     "output_type": "stream",
     "text": [
      "With 2 hands: 7.1% win rate over 100,000 games\n",
      "With 3 hands: 1.7% win rate over 100,000 games\n",
      "With 4 hands: 0.2% win rate over 100,000 games\n"
     ]
    }
   ],
   "source": [
    "stats = {}\n",
    "for n_hands in range(2, 5):\n",
    "    a = LastOwlAgent(n_hands=n_hands)\n",
    "    stats[n_hands] = a.play_n_games(int(N_GAMES_FOR_EVAL))\n",
    "    print(f\"With {n_hands} hands: {stats[n_hands]['win rate']:.1%} win rate over {stats[n_hands]['count']:,} games\")"
   ]
  }
 ],
 "metadata": {
  "interpreter": {
   "hash": "31f2aee4e71d21fbe5cf8b01ff0e069b9275f58929596ceb00d14d90e3e16cd6"
  },
  "kernelspec": {
   "display_name": "Python 3.8.9 64-bit",
   "language": "python",
   "name": "python3"
  },
  "language_info": {
   "codemirror_mode": {
    "name": "ipython",
    "version": 3
   },
   "file_extension": ".py",
   "mimetype": "text/x-python",
   "name": "python",
   "nbconvert_exporter": "python",
   "pygments_lexer": "ipython3",
   "version": "3.9.10"
  },
  "orig_nbformat": 4
 },
 "nbformat": 4,
 "nbformat_minor": 2
}
