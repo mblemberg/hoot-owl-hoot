{
 "cells": [
  {
   "cell_type": "code",
   "execution_count": 1,
   "metadata": {},
   "outputs": [
    {
     "data": {
      "text/html": [
       "\n",
       "<style>\n",
       "    .output-plaintext, .output-stream, .output {\n",
       "        font-family: Courier; # Any monospaced font should work\n",
       "        line-height: 1.3 !important;\n",
       "        font-size: 14px !important;\n",
       "    }\n",
       "</style>\n"
      ],
      "text/plain": [
       "<IPython.core.display.HTML object>"
      ]
     },
     "execution_count": 1,
     "metadata": {},
     "output_type": "execute_result"
    }
   ],
   "source": [
    "from IPython.core.display import HTML\n",
    "HTML(r\"\"\"\n",
    "<style>\n",
    "    .output-plaintext, .output-stream, .output {\n",
    "        font-family: Courier; # Any monospaced font should work\n",
    "        line-height: 1.3 !important;\n",
    "        font-size: 14px !important;\n",
    "    }\n",
    "</style>\n",
    "\"\"\")"
   ]
  },
  {
   "cell_type": "markdown",
   "metadata": {},
   "source": [
    "# Evaluation of simple strategies in Hoot Owl Hoot"
   ]
  },
  {
   "cell_type": "code",
   "execution_count": 2,
   "metadata": {},
   "outputs": [],
   "source": [
    "from agent import Agent\n",
    "N_GAMES_FOR_EVAL = 1E5"
   ]
  },
  {
   "cell_type": "markdown",
   "metadata": {},
   "source": [
    "# Baseline: Make a random legal move"
   ]
  },
  {
   "cell_type": "code",
   "execution_count": 3,
   "metadata": {},
   "outputs": [],
   "source": [
    "class RandomMoveAgent(Agent):\n",
    "\n",
    "    def move(self):\n",
    "        self.make_random_move()"
   ]
  },
  {
   "cell_type": "markdown",
   "metadata": {},
   "source": [
    "Show an example of a game played with 2 hands"
   ]
  },
  {
   "cell_type": "code",
   "execution_count": 4,
   "metadata": {},
   "outputs": [
    {
     "name": "stdout",
     "output_type": "stream",
     "text": [
      "ygobprbprygborpygobprgyobprygborpygborpN\n",
      "******                                  | Spg SrS | Sun: 0 | Cards played: 3\n",
      "******                                  | pgS SrS | Sun: 1 | Cards played: 4\n",
      "******                                  | pgS rSg | Sun: 2 | Cards played: 5\n",
      "******                                  | pgy rSg | Sun: 3 | Cards played: 6\n",
      "******                                  | pgy rgS | Sun: 4 | Cards played: 7\n",
      "*** ** *                                | gyr rgS | Sun: 4 | Cards played: 8\n",
      "*** ** *                                | gyr rgS | Sun: 5 | Cards played: 9\n",
      "***  * *  *                             | yro rgS | Sun: 5 | Cards played: 10\n",
      "***  * *  *                             | yro rgr | Sun: 6 | Cards played: 11\n",
      "* *  * * **                             | roS rgr | Sun: 6 | Cards played: 12\n",
      "  *  * ****                             | roS grb | Sun: 6 | Cards played: 13\n",
      "  *  * ****                             | roS grb | Sun: 7 | Cards played: 14\n",
      "  *  * * **     *                       | roS rbr | Sun: 7 | Cards played: 15\n",
      "  *  * * **     *                       | roy rbr | Sun: 8 | Cards played: 16\n",
      "  *  * * * *    *                       | roy rro | Sun: 8 | Cards played: 17\n",
      "  *  *   * *   **                       | rop rro | Sun: 8 | Cards played: 18\n",
      "  *     ** *   **                       | rop roo | Sun: 8 | Cards played: 19\n",
      "  *     ** *   * *                      | rpp roo | Sun: 8 | Cards played: 20\n",
      "  *     **  *  * *                      | rpp rop | Sun: 8 | Cards played: 21\n",
      "  *     **    ** *                      | rpo rop | Sun: 8 | Cards played: 22\n",
      "  *     **    **       *                | rpo rpg | Sun: 8 | Cards played: 23\n",
      "  *     **     *    *  *                | poo rpg | Sun: 8 | Cards played: 24\n",
      "  *      *   * *    *  *                | poo pgo | Sun: 8 | Cards played: 25\n",
      "  *      *   *   *  *  *                | poS pgo | Sun: 8 | Cards played: 26\n",
      "    *    *   *   *  *  *                | poS goS | Sun: 8 | Cards played: 27\n",
      "    *    *   *   *  *  *                | por goS | Sun: 9 | Cards played: 28\n",
      "    *    *   *   *  *  *                | por gob | Sun: 10 | Cards played: 29\n",
      "    *    *   *   *     * *              | org gob | Sun: 10 | Cards played: 30\n",
      "    *    *       **    * *              | org gob | Sun: 10 | Cards played: 31\n",
      "     *   *       **    * *              | ogb gob | Sun: 10 | Cards played: 32\n",
      "     *   *       **      *  *           | ogb obg | Sun: 10 | Cards played: 33\n",
      "     *   *       *     * *  *           | gbr obg | Sun: 10 | Cards played: 34\n",
      "     *   *        *    * *  *           | gbr ogy | Sun: 10 | Cards played: 35\n",
      "     *   *          *  * *  *           | gbg ogy | Sun: 10 | Cards played: 36\n",
      "     *   *          *  *    *     *     | gbg oyb | Sun: 10 | Cards played: 37\n",
      "     *   *          *  *          *     | bgS oyb | Sun: 10 | Cards played: 38\n",
      "     *   *          *  *           *    | bgS oyS | Sun: 10 | Cards played: 39\n",
      "     *   *          *  *           *    | bgy oyS | Sun: 11 | Cards played: 40\n",
      "     *   *          *  *           *    | bgy oyp | Sun: 12 | Cards played: 41\n",
      "     *   *          *  *                | gyy oyp | Sun: 12 | Cards played: 42\n",
      "         *     *    *  *                | gyy opS | Sun: 12 | Cards played: 43\n",
      "         *          * **                | gyb opS | Sun: 12 | Cards played: 44\n",
      "         *          * **                | gyb op | Sun: 13 | Cards played: 44\n",
      "Game result: Loss\n"
     ]
    }
   ],
   "source": [
    "a = RandomMoveAgent(n_hands=2)\n",
    "r = a.play_game(show_game=True)"
   ]
  },
  {
   "cell_type": "markdown",
   "metadata": {},
   "source": [
    "Evaluation of win rates for two, three, and four hand games using this strategy"
   ]
  },
  {
   "cell_type": "code",
   "execution_count": 5,
   "metadata": {},
   "outputs": [
    {
     "name": "stdout",
     "output_type": "stream",
     "text": [
      "With 2 hands: 0.0% win rate over 100,000 games\n",
      "With 3 hands: 0.0% win rate over 100,000 games\n",
      "With 4 hands: 0.0% win rate over 100,000 games\n"
     ]
    }
   ],
   "source": [
    "stats = {}\n",
    "for n_hands in range(2, 5):\n",
    "    a = RandomMoveAgent(n_hands=n_hands)\n",
    "    stats[n_hands] = a.play_n_games(int(N_GAMES_FOR_EVAL))\n",
    "    print(f\"With {n_hands} hands: {stats[n_hands]['win rate']:.1%} win rate over {stats[n_hands]['count']:,} games\")"
   ]
  },
  {
   "cell_type": "markdown",
   "metadata": {},
   "source": [
    "# Strategy: Always move the owl that is closest to the nest"
   ]
  },
  {
   "cell_type": "code",
   "execution_count": 6,
   "metadata": {},
   "outputs": [],
   "source": [
    "class FirstOwlAgent(Agent):\n",
    "\n",
    "    def move(self):\n",
    "        self.move_nth_owl_randomly(5)"
   ]
  },
  {
   "cell_type": "markdown",
   "metadata": {},
   "source": [
    "Show an example of a game played with 2 hands"
   ]
  },
  {
   "cell_type": "code",
   "execution_count": 7,
   "metadata": {},
   "outputs": [
    {
     "name": "stdout",
     "output_type": "stream",
     "text": [
      "ygobprbprygborpygobprgyobprygborpygborpN\n",
      "******                                  | pgy oSo | Sun: 0 | Cards played: 3\n",
      "*****  *                                | gyS oSo | Sun: 0 | Cards played: 4\n",
      "*****  *                                | gyS ooS | Sun: 1 | Cards played: 5\n",
      "*****  *                                | gyy ooS | Sun: 2 | Cards played: 6\n",
      "*****  *                                | gyy oob | Sun: 3 | Cards played: 7\n",
      "*****     *                             | yyo oob | Sun: 3 | Cards played: 8\n",
      "*****       *                           | yyo obS | Sun: 3 | Cards played: 9\n",
      "*****            *                      | yyo obS | Sun: 3 | Cards played: 10\n",
      "*****            *                      | yyo obS | Sun: 4 | Cards played: 11\n",
      "*****                  *                | yyr obS | Sun: 4 | Cards played: 12\n",
      "*****                  *                | yyr obr | Sun: 5 | Cards played: 13\n",
      "*****                      *            | yrb obr | Sun: 5 | Cards played: 14\n",
      "*****                        *          | yrb org | Sun: 5 | Cards played: 15\n",
      "*****                            *      | rby org | Sun: 5 | Cards played: 16\n",
      "*****                               *   | rby rgS | Sun: 5 | Cards played: 17\n",
      "*****                                   | ryr rgS | Sun: 5 | Cards played: 18\n",
      "*****                                   | ryr rgy | Sun: 6 | Cards played: 19\n",
      "**** *                                  | yrS rgy | Sun: 6 | Cards played: 20\n",
      "****    *                               | yrS gyS | Sun: 6 | Cards played: 21\n",
      "****    *                               | yrb gyS | Sun: 7 | Cards played: 22\n",
      "****    *                               | yrb gyS | Sun: 8 | Cards played: 23\n",
      "****     *                              | rbr gyS | Sun: 8 | Cards played: 24\n",
      "****     *                              | rbr gyg | Sun: 9 | Cards played: 25\n",
      "****       *                            | rrS gyg | Sun: 9 | Cards played: 26\n",
      "****            *                       | rrS ygS | Sun: 9 | Cards played: 27\n",
      "****            *                       | rrb ygS | Sun: 10 | Cards played: 28\n",
      "****            *                       | rrb ygS | Sun: 11 | Cards played: 29\n",
      "****                *                   | rbp ygS | Sun: 11 | Cards played: 30\n",
      "****                *                   | rbp ygp | Sun: 12 | Cards played: 31\n",
      "****                    *               | rpy ygp | Sun: 12 | Cards played: 32\n",
      "****                     *              | rpy ygr | Sun: 12 | Cards played: 33\n",
      "****                       *            | rpb ygr | Sun: 12 | Cards played: 34\n",
      "****                           *        | rpb ygg | Sun: 12 | Cards played: 35\n",
      "****                               *    | rpp ygg | Sun: 12 | Cards played: 36\n",
      "****                                    | rpp ygo | Sun: 12 | Cards played: 37\n",
      "*** *                                   | rpg ygo | Sun: 12 | Cards played: 38\n",
      "***         *                           | rpg ygb | Sun: 12 | Cards played: 39\n",
      "***          *                          | pgp ygb | Sun: 12 | Cards played: 40\n",
      "***             *                       | pgp ybS | Sun: 12 | Cards played: 41\n",
      "***                *                    | gpr ybS | Sun: 12 | Cards played: 42\n",
      "***                *                    | gpr yb | Sun: 13 | Cards played: 42\n",
      "Game result: Loss\n"
     ]
    }
   ],
   "source": [
    "a = FirstOwlAgent(n_hands=2)\n",
    "r = a.play_game(show_game=True)"
   ]
  },
  {
   "cell_type": "markdown",
   "metadata": {},
   "source": [
    "Evaluation of win rates for two, three, and four hand games using this strategy"
   ]
  },
  {
   "cell_type": "code",
   "execution_count": 8,
   "metadata": {},
   "outputs": [
    {
     "name": "stdout",
     "output_type": "stream",
     "text": [
      "With 2 hands: 0.0% win rate over 100,000 games\n",
      "With 3 hands: 0.0% win rate over 100,000 games\n",
      "With 4 hands: 0.0% win rate over 100,000 games\n"
     ]
    }
   ],
   "source": [
    "stats = {}\n",
    "for n_hands in range(2, 5):\n",
    "    a = FirstOwlAgent(n_hands=n_hands)\n",
    "    stats[n_hands] = a.play_n_games(int(N_GAMES_FOR_EVAL))\n",
    "    print(f\"With {n_hands} hands: {stats[n_hands]['win rate']:.1%} win rate over {stats[n_hands]['count']:,} games\")"
   ]
  },
  {
   "cell_type": "markdown",
   "metadata": {},
   "source": [
    "## Strategy: Always move the owl that is furthest from the nest"
   ]
  },
  {
   "cell_type": "code",
   "execution_count": 9,
   "metadata": {},
   "outputs": [],
   "source": [
    "class LastOwlAgent(Agent):\n",
    "\n",
    "    def move(self):\n",
    "        self.move_nth_owl_randomly(0)"
   ]
  },
  {
   "cell_type": "markdown",
   "metadata": {},
   "source": [
    "Show an example of a game played with 2 hands"
   ]
  },
  {
   "cell_type": "code",
   "execution_count": 10,
   "metadata": {},
   "outputs": [
    {
     "name": "stdout",
     "output_type": "stream",
     "text": [
      "ygobprbprygborpygobprgyobprygborpygborpN\n",
      "******                                  | ybS bSS | Sun: 0 | Cards played: 3\n",
      "******                                  | ybo bSS | Sun: 1 | Cards played: 4\n",
      "******                                  | ybo bSp | Sun: 2 | Cards played: 5\n",
      " *****      *                           | ybr bSp | Sun: 2 | Cards played: 6\n",
      " *****      *                           | ybr bpo | Sun: 3 | Cards played: 7\n",
      "  *****     *                           | yrS bpo | Sun: 3 | Cards played: 8\n",
      "   ****     *    *                      | yrS bpg | Sun: 3 | Cards played: 9\n",
      "   ****     *    *                      | yrS bpg | Sun: 4 | Cards played: 10\n",
      "    ****    *    *                      | yrS bgg | Sun: 4 | Cards played: 11\n",
      "    ****    *    *                      | yry bgg | Sun: 5 | Cards played: 12\n",
      "     ***   **    *                      | yry ggy | Sun: 5 | Cards played: 13\n",
      "      ***  **    *                      | yyr ggy | Sun: 5 | Cards played: 14\n",
      "       *** **    *                      | yyr ggS | Sun: 5 | Cards played: 15\n",
      "        ** **  * *                      | yrp ggS | Sun: 5 | Cards played: 16\n",
      "        ** **  * *                      | yrp ggp | Sun: 6 | Cards played: 17\n",
      "         * ** ** *                      | yrS ggp | Sun: 6 | Cards played: 18\n",
      "           ** ** * *                    | yrS ggy | Sun: 6 | Cards played: 19\n",
      "           ** ** * *                    | yrg ggy | Sun: 7 | Cards played: 20\n",
      "            * ** * *  *                 | yrg ggS | Sun: 7 | Cards played: 21\n",
      "             *** * *  *                 | ygg ggS | Sun: 7 | Cards played: 22\n",
      "             *** * *  *                 | ygg ggS | Sun: 8 | Cards played: 23\n",
      "              ** * *  *    *            | ggo ggS | Sun: 8 | Cards played: 24\n",
      "              ** * *  *    *            | ggo ggo | Sun: 9 | Cards played: 25\n",
      "               * * *  **   *            | ggS ggo | Sun: 9 | Cards played: 26\n",
      "                 * *  **   *  *         | ggS ggy | Sun: 9 | Cards played: 27\n",
      "                 * *  **   *  *         | ggo ggy | Sun: 10 | Cards played: 28\n",
      "                   * ***   *  *         | ggo gyp | Sun: 10 | Cards played: 29\n",
      "                     ***   ** *         | gob gyp | Sun: 10 | Cards played: 30\n",
      "                      ** * ** *         | gob gyo | Sun: 10 | Cards played: 31\n",
      "                       * * ** *   *     | obp gyo | Sun: 10 | Cards played: 32\n",
      "                         * ** *  **     | obp gog | Sun: 10 | Cards played: 33\n",
      "                           ** * ***     | obb gog | Sun: 10 | Cards played: 34\n",
      "                            * * ***     | obb ogS | Sun: 10 | Cards played: 35\n",
      "                              * *** *   | bbg ogS | Sun: 10 | Cards played: 36\n",
      "                              * *** *   | bbg ogS | Sun: 11 | Cards played: 37\n",
      "                                *****   | bgS ogS | Sun: 11 | Cards played: 38\n",
      "                                *****   | bgS ogp | Sun: 12 | Cards played: 39\n",
      "                                *****   | bg ogp | Sun: 13 | Cards played: 39\n",
      "Game result: Loss\n"
     ]
    }
   ],
   "source": [
    "a = LastOwlAgent(n_hands=2)\n",
    "r = a.play_game(show_game=True)"
   ]
  },
  {
   "cell_type": "markdown",
   "metadata": {},
   "source": [
    "Evaluation of win rates for two, three, and four hand games using this strategy"
   ]
  },
  {
   "cell_type": "code",
   "execution_count": 11,
   "metadata": {},
   "outputs": [
    {
     "name": "stdout",
     "output_type": "stream",
     "text": [
      "With 2 hands: 7.0% win rate over 100,000 games\n",
      "With 3 hands: 1.7% win rate over 100,000 games\n",
      "With 4 hands: 0.2% win rate over 100,000 games\n"
     ]
    }
   ],
   "source": [
    "stats = {}\n",
    "for n_hands in range(2, 5):\n",
    "    a = LastOwlAgent(n_hands=n_hands)\n",
    "    stats[n_hands] = a.play_n_games(int(N_GAMES_FOR_EVAL))\n",
    "    print(f\"With {n_hands} hands: {stats[n_hands]['win rate']:.1%} win rate over {stats[n_hands]['count']:,} games\")"
   ]
  }
 ],
 "metadata": {
  "interpreter": {
   "hash": "31f2aee4e71d21fbe5cf8b01ff0e069b9275f58929596ceb00d14d90e3e16cd6"
  },
  "kernelspec": {
   "display_name": "Python 3.8.9 64-bit",
   "language": "python",
   "name": "python3"
  },
  "language_info": {
   "codemirror_mode": {
    "name": "ipython",
    "version": 3
   },
   "file_extension": ".py",
   "mimetype": "text/x-python",
   "name": "python",
   "nbconvert_exporter": "python",
   "pygments_lexer": "ipython3",
   "version": "3.8.10"
  },
  "orig_nbformat": 4
 },
 "nbformat": 4,
 "nbformat_minor": 2
}
