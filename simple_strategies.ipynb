{
 "cells": [
  {
   "cell_type": "markdown",
   "metadata": {},
   "source": [
    "# Evaluation of simple strategies in Hoot Owl Hoot"
   ]
  },
  {
   "cell_type": "code",
   "execution_count": 1,
   "metadata": {},
   "outputs": [],
   "source": [
    "from agent import Agent\n",
    "N_GAMES_FOR_EVAL = 1E4"
   ]
  },
  {
   "cell_type": "markdown",
   "metadata": {},
   "source": [
    "# Strategy: Always move the owl that is closest to the nest"
   ]
  },
  {
   "cell_type": "code",
   "execution_count": 2,
   "metadata": {},
   "outputs": [],
   "source": [
    "class FirstOwlAgent(Agent):\n",
    "\n",
    "    def move(self):\n",
    "        self.move_nth_owl_randomly(5)"
   ]
  },
  {
   "cell_type": "markdown",
   "metadata": {},
   "source": [
    "Show an example of a game played with 4 hands"
   ]
  },
  {
   "cell_type": "code",
   "execution_count": 3,
   "metadata": {},
   "outputs": [
    {
     "name": "stdout",
     "output_type": "stream",
     "text": [
      "ygobprbprygborpygobprgyobprygborpygborpN\n",
      "******                                  | brb ypS | Sun: 0\n",
      "*****   *                               | bbr ypS | Sun: 0\n",
      "*****   *                               | bbr ypb | Sun: 1\n",
      "*****      *                            | bro ypb | Sun: 1\n",
      "*****         *                         | bro ybg | Sun: 1\n",
      "*****             *                     | rob ybg | Sun: 1\n",
      "*****                *                  | rob ybS | Sun: 1\n",
      "*****                     *             | obS ybS | Sun: 1\n",
      "*****                     *             | obS ybr | Sun: 2\n",
      "*****                     *             | obS ybr | Sun: 3\n",
      "*****                      *            | obS bry | Sun: 3\n",
      "*****                      *            | obS bry | Sun: 4\n",
      "*****                        *          | obS ryS | Sun: 4\n",
      "*****                        *          | obS ryS | Sun: 5\n",
      "*****                        *          | obS ryS | Sun: 6\n",
      "*****                        *          | obo ryS | Sun: 7\n",
      "*****                        *          | obo ryb | Sun: 8\n",
      "*****                              *    | ooS ryb | Sun: 8\n",
      "*****                                *  | ooS ybS | Sun: 8\n",
      "*****                                *  | oop ybS | Sun: 9\n",
      "*****                                *  | oop ybg | Sun: 10\n",
      "*****                                   | opp ybg | Sun: 10\n",
      "****      *                             | opp ybr | Sun: 10\n",
      "****          *                         | opo ybr | Sun: 10\n",
      "****              *                     | opo yro | Sun: 10\n",
      "****               *                    | ooy yro | Sun: 10\n",
      "****                *                   | ooy yor | Sun: 10\n",
      "****                   *                | oyS yor | Sun: 10\n",
      "****                      *             | oyS yoy | Sun: 10\n",
      "****                      *             | oyg yoy | Sun: 11\n",
      "****                          *         | oyg yyy | Sun: 11\n",
      "****                                *   | ygo yyy | Sun: 11\n",
      "****                                    | ygo yyp | Sun: 11\n",
      "***      *                              | gog yyp | Sun: 11\n",
      "***           *                         | gog yyo | Sun: 11\n",
      "***             *                       | ogb yyo | Sun: 11\n",
      "***              *                      | ogb yyg | Sun: 11\n",
      "***               *                     | ogp yyg | Sun: 11\n",
      "***                   *                 | ogp ygg | Sun: 11\n",
      "***                      *              | ogy ygg | Sun: 11\n",
      "***                         *           | ogy ygS | Sun: 11\n",
      "***                              *      | ogp ygS | Sun: 11\n",
      "***                              *      | ogp ygS | Sun: 12\n",
      "***                                 *   | gpr ygS | Sun: 12\n",
      "***                                 *   | gpr ygS | Sun: 13\n",
      "Game result: Loss\n"
     ]
    }
   ],
   "source": [
    "a = FirstOwlAgent(n_hands=2)\n",
    "r = a.play_game(show_game=True)"
   ]
  },
  {
   "cell_type": "markdown",
   "metadata": {},
   "source": [
    "Evaluation of win rates for two, three, and four hand games using this strategy"
   ]
  },
  {
   "cell_type": "code",
   "execution_count": 4,
   "metadata": {},
   "outputs": [
    {
     "name": "stdout",
     "output_type": "stream",
     "text": [
      "With 2 hands: 0.0% win rate over 10,000 games\n",
      "With 3 hands: 0.0% win rate over 10,000 games\n",
      "With 4 hands: 0.0% win rate over 10,000 games\n"
     ]
    }
   ],
   "source": [
    "stats = {}\n",
    "for n_hands in range(2, 5):\n",
    "    a = FirstOwlAgent(n_hands=n_hands)\n",
    "    stats[n_hands] = a.play_n_games(int(N_GAMES_FOR_EVAL))\n",
    "    print(f\"With {n_hands} hands: {stats[n_hands]['win rate']:.1%} win rate over {stats[n_hands]['count']:,} games\")"
   ]
  },
  {
   "cell_type": "markdown",
   "metadata": {},
   "source": [
    "## Strategy: Always move the owl that is furthest from the nest"
   ]
  },
  {
   "cell_type": "code",
   "execution_count": 5,
   "metadata": {},
   "outputs": [],
   "source": [
    "class LastOwlAgent(Agent):\n",
    "\n",
    "    def move(self):\n",
    "        self.move_nth_owl_randomly(0)"
   ]
  },
  {
   "cell_type": "markdown",
   "metadata": {},
   "source": [
    "Show an example of a game played with 4 hands"
   ]
  },
  {
   "cell_type": "code",
   "execution_count": 6,
   "metadata": {},
   "outputs": [
    {
     "name": "stdout",
     "output_type": "stream",
     "text": [
      "ygobprbprygborpygobprgyobprygborpygborpN\n",
      "******                                  | Spy Sgo | Sun: 0\n",
      "******                                  | pyp Sgo | Sun: 1\n",
      "******                                  | pyp goo | Sun: 2\n",
      " ***** *                                | ypb goo | Sun: 2\n",
      "  **** *  *                             | ypb oog | Sun: 2\n",
      "   *****  *                             | ypg oog | Sun: 2\n",
      "    ****  *     *                       | ypg ooy | Sun: 2\n",
      "     *** **     *                       | pgS ooy | Sun: 2\n",
      "      ** **    **                       | pgS ooo | Sun: 2\n",
      "      ** **    **                       | pgr ooo | Sun: 3\n",
      "       * ** *  **                       | pgr ooy | Sun: 3\n",
      "         ** *  **    *                  | prS ooy | Sun: 3\n",
      "          * *  ***   *                  | prS oyp | Sun: 3\n",
      "          * *  ***   *                  | prb oyp | Sun: 4\n",
      "            *  ***   **                 | prb opo | Sun: 4\n",
      "              ****   **                 | rbS opo | Sun: 4\n",
      "               ***   ***                | rbS poS | Sun: 4\n",
      "               ***   ***                | rby poS | Sun: 5\n",
      "               ***   ***                | rby pob | Sun: 6\n",
      "                ***  ***                | ryo pob | Sun: 6\n",
      "                 *** ***                | ryo obS | Sun: 6\n",
      "                  ******                | yor obS | Sun: 6\n",
      "                  ******                | yor obg | Sun: 7\n",
      "                   *****  *             | yob obg | Sun: 7\n",
      "                    ****  * *           | yob obg | Sun: 7\n",
      "                     ***  * * *         | ybS obg | Sun: 7\n",
      "                      *** * * *         | ybS ogr | Sun: 7\n",
      "                      *** * * *         | ybS ogr | Sun: 8\n",
      "                       ** * * *   *     | ybS orb | Sun: 8\n",
      "                       ** * * *   *     | ybS orb | Sun: 9\n",
      "                        * * * *   * *   | ybS rbp | Sun: 9\n",
      "                        * * * *   * *   | ybS rbp | Sun: 10\n",
      "                         ** * *   * *   | ybS rbS | Sun: 10\n",
      "                         ** * *   * *   | ybo rbS | Sun: 11\n",
      "                         ** * *   * *   | ybo rbg | Sun: 12\n",
      "                          *** *   * *   | bor rbg | Sun: 12\n",
      "                           ** *   * *   | bor rbb | Sun: 12\n",
      "                            ***   * *   | ory rbb | Sun: 12\n",
      "                             **   ***   | ory rbp | Sun: 12\n",
      "                              *   ***   | ryp rbp | Sun: 12\n",
      "                               *  ***   | ryp bpS | Sun: 12\n",
      "                                * ***   | ryr bpS | Sun: 12\n",
      "                                * ***   | ryr bpy | Sun: 13\n",
      "Game result: Loss\n"
     ]
    }
   ],
   "source": [
    "a = LastOwlAgent(n_hands=2)\n",
    "r = a.play_game(show_game=True)"
   ]
  },
  {
   "cell_type": "markdown",
   "metadata": {},
   "source": [
    "Evaluation of win rates for two, three, and four hand games using this strategy"
   ]
  },
  {
   "cell_type": "code",
   "execution_count": 7,
   "metadata": {},
   "outputs": [
    {
     "name": "stdout",
     "output_type": "stream",
     "text": [
      "With 2 hands: 7.4% win rate over 10,000 games\n",
      "With 3 hands: 1.6% win rate over 10,000 games\n",
      "With 4 hands: 0.3% win rate over 10,000 games\n"
     ]
    }
   ],
   "source": [
    "stats = {}\n",
    "for n_hands in range(2, 5):\n",
    "    a = LastOwlAgent(n_hands=n_hands)\n",
    "    stats[n_hands] = a.play_n_games(int(N_GAMES_FOR_EVAL))\n",
    "    print(f\"With {n_hands} hands: {stats[n_hands]['win rate']:.1%} win rate over {stats[n_hands]['count']:,} games\")"
   ]
  }
 ],
 "metadata": {
  "interpreter": {
   "hash": "31f2aee4e71d21fbe5cf8b01ff0e069b9275f58929596ceb00d14d90e3e16cd6"
  },
  "kernelspec": {
   "display_name": "Python 3.8.9 64-bit",
   "language": "python",
   "name": "python3"
  },
  "language_info": {
   "codemirror_mode": {
    "name": "ipython",
    "version": 3
   },
   "file_extension": ".py",
   "mimetype": "text/x-python",
   "name": "python",
   "nbconvert_exporter": "python",
   "pygments_lexer": "ipython3",
   "version": "3.9.10"
  },
  "orig_nbformat": 4
 },
 "nbformat": 4,
 "nbformat_minor": 2
}
