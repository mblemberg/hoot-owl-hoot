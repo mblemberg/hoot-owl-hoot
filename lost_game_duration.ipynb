{
 "cells": [
  {
   "cell_type": "code",
   "execution_count": 1,
   "metadata": {},
   "outputs": [],
   "source": [
    "import matplotlib.pyplot as plt\n",
    "import game\n",
    "from math import factorial as fac\n",
    "import seaborn as sns\n",
    "import agent\n",
    "\n",
    "%matplotlib inline\n",
    "plt.rcParams['figure.dpi'] = 100\n",
    "plt.rcParams['savefig.dpi'] = 100"
   ]
  },
  {
   "cell_type": "markdown",
   "metadata": {},
   "source": [
    "# Number of cards played in a lost game\n",
    "A game is lost when the sun token has moved 13 spaces.  This can only happen after at least 13 cards have been played.\n"
   ]
  },
  {
   "cell_type": "markdown",
   "metadata": {},
   "source": [
    "### What is the probability that a player starts the game with at least one sun card?\n",
    "Since the turn order is random, this probability is the same for all players.\n",
    "\n",
    "$$\n",
    "\\begin{align*}\n",
    "\n",
    "p\\left(start\\ with\\ at\\ least\\ one\\ sun\\right) &= 1-p\\left(start\\ with\\ zero\\ suns\\right) \\\\\n",
    "\n",
    "&= 1 - \\left( \\frac{36}{50}*\\frac{35}{49}*\\frac{34}{48} \\right) \\\\\n",
    "&\\approx 0.6357\n",
    "\\end{align*}\n",
    "$$"
   ]
  },
  {
   "cell_type": "code",
   "execution_count": 2,
   "metadata": {},
   "outputs": [
    {
     "name": "stdout",
     "output_type": "stream",
     "text": [
      "The probability of the first hand being dealt at leat one sun is 0.6357\n"
     ]
    }
   ],
   "source": [
    "# Probability of the first hand having a sun on the first turn\n",
    "p = 1 - 36/50 * 35/49 * 34/48\n",
    "print(f'The probability of the first hand being dealt at leat one sun is {p:.4f}')"
   ]
  },
  {
   "cell_type": "code",
   "execution_count": 3,
   "metadata": {},
   "outputs": [
    {
     "name": "stdout",
     "output_type": "stream",
     "text": [
      "In 63.42% of the 100,000 games, the first hand started with at least one sun.\n"
     ]
    }
   ],
   "source": [
    "# Deal 100,000 games and count the number of times the first hand contains at least one sun\n",
    "n_games = 100_000\n",
    "count = 0\n",
    "for _ in range(n_games):\n",
    "    g = game.Game()\n",
    "    if game.SUN in g.hands[0]:\n",
    "        count += 1\n",
    "\n",
    "print(f'In {count / n_games:.2%} of the {n_games:,} games, the first hand started with at least one sun.')"
   ]
  },
  {
   "cell_type": "markdown",
   "metadata": {},
   "source": [
    "## What is the expected position within the deck of the 13th sun card?\n",
    "```\n",
    "<---------------------------------k---------------->\n",
    "       ^                          ^           ^  \n",
    "       12 suns                    13th sun    1 sun\n",
    "```\n",
    "\n",
    "The position of the 13th sun has 12 suns before it and one sun after it.  The number of possible ways to achieve a configuration like this is the number of ways to configure 12 suns within $(k-1)$ positions multiplied by the number of positions that the last sun can be in, which is $(50-k)$.\n",
    "\n",
    "$$ N_{specific\\ permutations} = \\binom{k-1}{12} \\left( 50-k \\right) $$\n",
    "\n",
    "And the total number of ways to distribute 14 sun cards within 50 cards is calculated using a binomial coefficient.\n",
    "\n",
    "$$ N_{total\\ permutations} = \\binom{50}{14} $$\n",
    "\n",
    "So the probability that the 13th sun is in position $k$ is the ratio of the two expressions above.\n",
    "\n",
    "$$ p(k) = \\frac{\\binom{k-1}{12} \\left( 50-k \\right)}{\\binom{50}{14}} $$\n"
   ]
  },
  {
   "cell_type": "code",
   "execution_count": 4,
   "metadata": {},
   "outputs": [],
   "source": [
    "# Calculate the probability density function\n",
    "def binom(n, k):\n",
    "    return fac(n) / fac(k) / fac(n-k)\n",
    "\n",
    "def p(k):\n",
    "    return binom(k-1, 12) * (50-k) / binom(50, 14)\n",
    "\n",
    "x = []\n",
    "y = []\n",
    "for k in range(13,50):\n",
    "    x.append(k)\n",
    "    y.append(p(k))"
   ]
  },
  {
   "cell_type": "code",
   "execution_count": 22,
   "metadata": {},
   "outputs": [
    {
     "data": {
      "image/png": "[encoded data removed]",
      "text/plain": [
       "<Figure size 600x400 with 1 Axes>"
      ]
     },
     "metadata": {
      "needs_background": "light"
     },
     "output_type": "display_data"
    }
   ],
   "source": [
    "plt.stem(x, y)\n",
    "plt.xlabel('k')\n",
    "plt.ylabel('Probability density')\n",
    "plt.savefig('pdf_13th_sun_position.png')"
   ]
  },
  {
   "cell_type": "markdown",
   "metadata": {},
   "source": [
    "\n",
    "And the expected position of the 13th sun is:\n",
    "\n",
    "$$\n",
    "\\begin{align*}\n",
    "\n",
    "E[k_{13}] &= \\sum_{k=13}^{49}p(k)k \\\\\n",
    "\n",
    "&= \\sum_{k=13}^{49} \\left[ \\frac{\\binom{k-1}{12} \\left( 50-k \\right)}{\\binom{50}{14}} k \\right] \\\\\n",
    "&= \\sum_{k=13}^{49} \\left[ \\frac{k(k-1)!(50-k)} {(k-13)!} \\frac{14!*36!}{12!*50!} \\right] \\\\\n",
    "&= 44.2\n",
    "\n",
    "\\end{align*}\n",
    "$$"
   ]
  },
  {
   "cell_type": "code",
   "execution_count": null,
   "metadata": {},
   "outputs": [],
   "source": [
    "# Set up 100,000 decks and find the average position of the 13th sun\n",
    "n_games = 100_000\n",
    "sum = 0\n",
    "\n",
    "for _ in range(n_games):\n",
    "    d = game.Deck()\n",
    "    d.shuffle()\n",
    "    sum += d.position_of_nth_card(game.SUN, 13)\n",
    "\n",
    "avg = sum / n_games\n",
    "print(f'The average position of the 13th sun is {avg + 1:.3f}')"
   ]
  },
  {
   "cell_type": "markdown",
   "metadata": {},
   "source": [
    "This result confirms that a single player game is expected to have 44.2 cards dealt and have 42.2 moves."
   ]
  },
  {
   "cell_type": "markdown",
   "metadata": {},
   "source": [
    "## Average number of cards played\n",
    "Since each player begins the game with an extra two cards in addition to the initial \"draw\", the number of cards that need to be drawn before the 13th sun is reached is two less for each player in the game.\n",
    "\n",
    "$$\n",
    "E[N_{cards\\_played}] = \\sum_{k=13}^{49} \\left[ \\frac{k(k-1)!(50-k)} {(k-13)!} \\frac{14!*36!}{12!*50!} \\right] - 2 N_{players}\n",
    "$$\n",
    "\n",
    "## Average number of cards dealt\n",
    "The number of cards dealt is directly related to the number of cards played and the number of players.  There are two additional cards dealt per player due to the starting hand.  Since the game ends with one player playing one of their three cards, they end with only two cards and a replacement card is not drawn.  Therefore, one less card is dealt.\n",
    "\n",
    "$$\n",
    "N_{cards\\_dealt} = N_{cards\\_played} + 3 N_{players} - 1\n",
    "$$\n",
    "\n",
    "| $N_{players}$ | $E[N_{cards\\_played}]$ | $E[N_{cards\\_dealt}]$ |\n",
    "| --- | --- | --- |\n",
    "| 1 | 42.2 | 44.2 |\n",
    "| 2 | 40.2 | 45.2 |\n",
    "| 3 | 38.2 | 46.2 |\n",
    "| 4 | 36.2 | 47.2 |\n"
   ]
  },
  {
   "cell_type": "code",
   "execution_count": null,
   "metadata": {},
   "outputs": [],
   "source": [
    "# Find the average length of a lost game\n",
    "n_games = 10_000\n",
    "played_cards_counts = {}\n",
    "\n",
    "for N_players in range(1, 5):\n",
    "    sum = 0\n",
    "    played_cards_counts[N_players] = []\n",
    "\n",
    "    for _ in range(n_games):\n",
    "        a = agent.Agent(n_hands=N_players)\n",
    "        a.play_game()\n",
    "\n",
    "        if a.game.state() == game.Game.LOSS:\n",
    "            sum += len(a.game.deck.cards)\n",
    "\n",
    "            n_cards_in_hands = 0\n",
    "            for _p in range(N_players):\n",
    "                n_cards_in_hands += len(a.game.hands[_p])\n",
    "\n",
    "            played_cards_counts[N_players].append(\n",
    "                50 - len(a.game.deck.cards) - n_cards_in_hands\n",
    "            )\n",
    "\n",
    "    avg_cards_remaining = sum / n_games\n",
    "    avg_cards_played = 50 - avg_cards_remaining - 3 * N_players + 1\n",
    "    avg_cards_dealt = 50 - avg_cards_remaining\n",
    "\n",
    "    print(\n",
    "        f'The average cards played in a {N_players} player game using random moves is {avg_cards_played:.3f}.')\n",
    "    print(\n",
    "        f'The average number of cards dealt in a {N_players} player game using random moves is {avg_cards_dealt:.3f}')\n"
   ]
  },
  {
   "cell_type": "code",
   "execution_count": null,
   "metadata": {},
   "outputs": [],
   "source": [
    "for n in range(1, 5):\n",
    "    print(f'Number of lost games for {n} player sims = {len(played_cards_counts[n])}')"
   ]
  },
  {
   "cell_type": "code",
   "execution_count": null,
   "metadata": {},
   "outputs": [],
   "source": [
    "plt.hist(x=(\n",
    "    played_cards_counts[1],\n",
    "    played_cards_counts[2],\n",
    "    played_cards_counts[3],\n",
    "    played_cards_counts[4]\n",
    "),\n",
    "    bins=range(13, 51),\n",
    "    histtype='step',\n",
    "    stacked=False,\n",
    "    fill=False,\n",
    "    label=['1', '2', '3', '4']\n",
    ")\n",
    "plt.xlabel('Cards Played')\n",
    "plt.ylabel('Frequency')\n",
    "legend = plt.legend(loc='upper left')"
   ]
  },
  {
   "cell_type": "markdown",
   "metadata": {},
   "source": [
    "The simulations above do not seem to support the calculated expectations for multiplayer games.  The games seem to be ending sooner than expected.  Since 13 sun cards always need to be played/dealt, I'm not sure why this is the case."
   ]
  },
  {
   "cell_type": "code",
   "execution_count": null,
   "metadata": {},
   "outputs": [],
   "source": [
    "a = agent.Agent(n_hands=4)\n",
    "a.play_game(show_game=True)"
   ]
  },
  {
   "cell_type": "code",
   "execution_count": null,
   "metadata": {},
   "outputs": [],
   "source": [
    "# Probability that the 13th sun is played and the game ends when k cards have been removed from the deck\n",
    "def p_end(k, n_players):\n",
    "    return (\n",
    "        fac(k-num_players) * (49-k+num_players) * fac(14) * fac(36)\n",
    "        / fac(k-12-num_players) / fac(50) / fac(12)\n",
    "    )\n"
   ]
  },
  {
   "cell_type": "code",
   "execution_count": null,
   "metadata": {},
   "outputs": [],
   "source": [
    "for num_players in range(1, 5):\n",
    "    avg_cards_dealt = 0\n",
    "    p_sum = 0\n",
    "    for k in range(3*num_players+12, 53):\n",
    "        p = p_end(k, num_players)\n",
    "        p_sum += p\n",
    "        avg_cards_dealt += k * p\n",
    "        print(f'k={k}, p={p:.3f}, sum_cards={avg_cards_dealt:.3f}, sum_p={p_sum:.3f}')\n",
    "    print(f'The expected number of cards dealt for a {num_players} player game is {avg_cards_dealt:.3f}.')"
   ]
  },
  {
   "cell_type": "code",
   "execution_count": null,
   "metadata": {},
   "outputs": [],
   "source": [
    "for num_players in range(1, 5):\n",
    "    k = list(range(3*num_players+12, 51))\n",
    "    p = []\n",
    "    for i in k:\n",
    "        p.append(p_end(i, num_players))\n",
    "    plt.plot(k, p)"
   ]
  },
  {
   "cell_type": "markdown",
   "metadata": {},
   "source": [
    "The sum of this probability distribution over all values of k:\n",
    "\n",
    "| $N_{players}$ | $p(k_{13})$ |\n",
    "| --- | --- |\n",
    "| 1 | 1.000 |\n",
    "| 2 | 1.000 |\n",
    "| 3 | 0.926 |\n",
    "| 4 | 0.814 |\n",
    "\n",
    "What are the unaccounted for possibilities for 3 and 4 player games?\n",
    "\n",
    "It seems like 3 players is missing the last $p(k_{13})$ that 1 and 2 player games have.  i.e.\n",
    "\n",
    "$$1 - 0.926 = 0.074$$\n",
    "\n",
    "It seems like 3 players is missing that and also the second to last value.  i.e.\n",
    "\n",
    "$$1 - 0.814 = 0.186 = 0.074 + 0.111$$"
   ]
  },
  {
   "cell_type": "code",
   "execution_count": null,
   "metadata": {},
   "outputs": [],
   "source": []
  }
 ],
 "metadata": {
  "interpreter": {
   "hash": "df4e6b70a5fe3c12393ad7d487e5616e7544ce8f37b0ece5df19391db8b0b32b"
  },
  "kernelspec": {
   "display_name": "Python 3.8.10 ('env': venv)",
   "language": "python",
   "name": "python3"
  },
  "language_info": {
   "codemirror_mode": {
    "name": "ipython",
    "version": 3
   },
   "file_extension": ".py",
   "mimetype": "text/x-python",
   "name": "python",
   "nbconvert_exporter": "python",
   "pygments_lexer": "ipython3",
   "version": "3.8.10"
  },
  "orig_nbformat": 4
 },
 "nbformat": 4,
 "nbformat_minor": 2
}
